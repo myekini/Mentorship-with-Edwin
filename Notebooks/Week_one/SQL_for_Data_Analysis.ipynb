{
 "cells": [
  {
   "cell_type": "markdown",
   "id": "e77d8e67",
   "metadata": {},
   "source": [
    "# SQL for Data Analysis\n",
    "\n",
    "- 1. What is SQL\n",
    "- 2. Relational Datbases Overview\n",
    "- 3. SELECT statements\n",
    "- 4. Filtering with WHERE\n",
    "- 5. Sorting and limiting \n",
    "- 6. Aggregation and GROUP BY\n",
    "- 7. Joining of Tables\n",
    "- 8. Mock Interviews Questions  "
   ]
  },
  {
   "cell_type": "markdown",
   "id": "968972f1",
   "metadata": {},
   "source": []
  }
 ],
 "metadata": {
  "language_info": {
   "name": "python"
  }
 },
 "nbformat": 4,
 "nbformat_minor": 5
}
