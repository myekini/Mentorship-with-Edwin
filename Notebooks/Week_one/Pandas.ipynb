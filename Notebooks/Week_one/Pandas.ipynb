{
 "cells": [
  {
   "cell_type": "markdown",
   "id": "2058a91d",
   "metadata": {},
   "source": [
    "## PANDAS\n",
    "\n",
    " - Python LIbrary that enables us to perform data manipulation & exploraiton "
   ]
  },
  {
   "cell_type": "code",
   "execution_count": 2,
   "id": "a3ef038e",
   "metadata": {},
   "outputs": [],
   "source": [
    "# step 1 importing pandas\n",
    "import pandas as pd "
   ]
  },
  {
   "cell_type": "code",
   "execution_count": 3,
   "id": "3eef96a7",
   "metadata": {},
   "outputs": [
    {
     "data": {
      "application/vnd.microsoft.datawrangler.viewer.v0+json": {
       "columns": [
        {
         "name": "index",
         "rawType": "int64",
         "type": "integer"
        },
        {
         "name": "patient_id",
         "rawType": "int64",
         "type": "integer"
        },
        {
         "name": "age",
         "rawType": "int64",
         "type": "integer"
        },
        {
         "name": "gender",
         "rawType": "object",
         "type": "string"
        },
        {
         "name": "bmi",
         "rawType": "float64",
         "type": "float"
        },
        {
         "name": "smoker",
         "rawType": "bool",
         "type": "boolean"
        },
        {
         "name": "chronic_cond",
         "rawType": "object",
         "type": "unknown"
        },
        {
         "name": "injury_type",
         "rawType": "object",
         "type": "string"
        },
        {
         "name": "signup_date",
         "rawType": "object",
         "type": "string"
        },
        {
         "name": "referral_source",
         "rawType": "object",
         "type": "string"
        },
        {
         "name": "consent",
         "rawType": "bool",
         "type": "boolean"
        },
        {
         "name": "clinic_id",
         "rawType": "int64",
         "type": "integer"
        },
        {
         "name": "insurance_type",
         "rawType": "object",
         "type": "string"
        }
       ],
       "ref": "66c70c9a-4697-4b85-bcf4-cf0997055449",
       "rows": [
        [
         "0",
         "1",
         "29",
         "Male",
         "23.9",
         "False",
         null,
         "Knee",
         "12:44.3",
         "Insurance",
         "True",
         "6",
         "Public"
        ],
        [
         "1",
         "2",
         "68",
         "Female",
         "31.7",
         "True",
         null,
         "Shoulder",
         "12:44.3",
         "Insurance",
         "False",
         "3",
         "Public"
        ],
        [
         "2",
         "3",
         "64",
         "Male",
         "27.5",
         "False",
         null,
         "Hip",
         "12:44.3",
         "GP",
         "True",
         "5",
         "Public"
        ],
        [
         "3",
         "4",
         "41",
         "Female",
         "26.1",
         "False",
         null,
         "Back",
         "12:44.3",
         "GP",
         "True",
         "2",
         "Private-Premium"
        ],
        [
         "4",
         "5",
         "22",
         "Female",
         "21.3",
         "False",
         null,
         "Shoulder",
         "12:44.3",
         "Insurance",
         "True",
         "4",
         "Private-Basic"
        ]
       ],
       "shape": {
        "columns": 12,
        "rows": 5
       }
      },
      "text/html": [
       "<div>\n",
       "<style scoped>\n",
       "    .dataframe tbody tr th:only-of-type {\n",
       "        vertical-align: middle;\n",
       "    }\n",
       "\n",
       "    .dataframe tbody tr th {\n",
       "        vertical-align: top;\n",
       "    }\n",
       "\n",
       "    .dataframe thead th {\n",
       "        text-align: right;\n",
       "    }\n",
       "</style>\n",
       "<table border=\"1\" class=\"dataframe\">\n",
       "  <thead>\n",
       "    <tr style=\"text-align: right;\">\n",
       "      <th></th>\n",
       "      <th>patient_id</th>\n",
       "      <th>age</th>\n",
       "      <th>gender</th>\n",
       "      <th>bmi</th>\n",
       "      <th>smoker</th>\n",
       "      <th>chronic_cond</th>\n",
       "      <th>injury_type</th>\n",
       "      <th>signup_date</th>\n",
       "      <th>referral_source</th>\n",
       "      <th>consent</th>\n",
       "      <th>clinic_id</th>\n",
       "      <th>insurance_type</th>\n",
       "    </tr>\n",
       "  </thead>\n",
       "  <tbody>\n",
       "    <tr>\n",
       "      <th>0</th>\n",
       "      <td>1</td>\n",
       "      <td>29</td>\n",
       "      <td>Male</td>\n",
       "      <td>23.9</td>\n",
       "      <td>False</td>\n",
       "      <td>NaN</td>\n",
       "      <td>Knee</td>\n",
       "      <td>12:44.3</td>\n",
       "      <td>Insurance</td>\n",
       "      <td>True</td>\n",
       "      <td>6</td>\n",
       "      <td>Public</td>\n",
       "    </tr>\n",
       "    <tr>\n",
       "      <th>1</th>\n",
       "      <td>2</td>\n",
       "      <td>68</td>\n",
       "      <td>Female</td>\n",
       "      <td>31.7</td>\n",
       "      <td>True</td>\n",
       "      <td>NaN</td>\n",
       "      <td>Shoulder</td>\n",
       "      <td>12:44.3</td>\n",
       "      <td>Insurance</td>\n",
       "      <td>False</td>\n",
       "      <td>3</td>\n",
       "      <td>Public</td>\n",
       "    </tr>\n",
       "    <tr>\n",
       "      <th>2</th>\n",
       "      <td>3</td>\n",
       "      <td>64</td>\n",
       "      <td>Male</td>\n",
       "      <td>27.5</td>\n",
       "      <td>False</td>\n",
       "      <td>NaN</td>\n",
       "      <td>Hip</td>\n",
       "      <td>12:44.3</td>\n",
       "      <td>GP</td>\n",
       "      <td>True</td>\n",
       "      <td>5</td>\n",
       "      <td>Public</td>\n",
       "    </tr>\n",
       "    <tr>\n",
       "      <th>3</th>\n",
       "      <td>4</td>\n",
       "      <td>41</td>\n",
       "      <td>Female</td>\n",
       "      <td>26.1</td>\n",
       "      <td>False</td>\n",
       "      <td>NaN</td>\n",
       "      <td>Back</td>\n",
       "      <td>12:44.3</td>\n",
       "      <td>GP</td>\n",
       "      <td>True</td>\n",
       "      <td>2</td>\n",
       "      <td>Private-Premium</td>\n",
       "    </tr>\n",
       "    <tr>\n",
       "      <th>4</th>\n",
       "      <td>5</td>\n",
       "      <td>22</td>\n",
       "      <td>Female</td>\n",
       "      <td>21.3</td>\n",
       "      <td>False</td>\n",
       "      <td>NaN</td>\n",
       "      <td>Shoulder</td>\n",
       "      <td>12:44.3</td>\n",
       "      <td>Insurance</td>\n",
       "      <td>True</td>\n",
       "      <td>4</td>\n",
       "      <td>Private-Basic</td>\n",
       "    </tr>\n",
       "  </tbody>\n",
       "</table>\n",
       "</div>"
      ],
      "text/plain": [
       "   patient_id  age  gender   bmi  smoker chronic_cond injury_type signup_date  \\\n",
       "0           1   29    Male  23.9   False          NaN        Knee     12:44.3   \n",
       "1           2   68  Female  31.7    True          NaN    Shoulder     12:44.3   \n",
       "2           3   64    Male  27.5   False          NaN         Hip     12:44.3   \n",
       "3           4   41  Female  26.1   False          NaN        Back     12:44.3   \n",
       "4           5   22  Female  21.3   False          NaN    Shoulder     12:44.3   \n",
       "\n",
       "  referral_source  consent  clinic_id   insurance_type  \n",
       "0       Insurance     True          6           Public  \n",
       "1       Insurance    False          3           Public  \n",
       "2              GP     True          5           Public  \n",
       "3              GP     True          2  Private-Premium  \n",
       "4       Insurance     True          4    Private-Basic  "
      ]
     },
     "execution_count": 3,
     "metadata": {},
     "output_type": "execute_result"
    }
   ],
   "source": [
    "# step 2 Loading a data in pandas \n",
    "#create a variable to store this data\n",
    "#methods------ tools\n",
    "\n",
    "df = pd.read_csv(\"C:/Users/Muham/Downloads/EX-ROLES/AMDARI/Princess_j_Mentorship/data/patients.csv\")\n",
    "df.head()\n"
   ]
  },
  {
   "cell_type": "code",
   "execution_count": 4,
   "id": "5e21a3c7",
   "metadata": {},
   "outputs": [
    {
     "name": "stdout",
     "output_type": "stream",
     "text": [
      "<class 'pandas.core.frame.DataFrame'>\n",
      "RangeIndex: 5007 entries, 0 to 5006\n",
      "Data columns (total 12 columns):\n",
      " #   Column           Non-Null Count  Dtype  \n",
      "---  ------           --------------  -----  \n",
      " 0   patient_id       5007 non-null   int64  \n",
      " 1   age              5007 non-null   int64  \n",
      " 2   gender           5007 non-null   object \n",
      " 3   bmi              5007 non-null   float64\n",
      " 4   smoker           5007 non-null   bool   \n",
      " 5   chronic_cond     1932 non-null   object \n",
      " 6   injury_type      5007 non-null   object \n",
      " 7   signup_date      5007 non-null   object \n",
      " 8   referral_source  5007 non-null   object \n",
      " 9   consent          5007 non-null   bool   \n",
      " 10  clinic_id        5007 non-null   int64  \n",
      " 11  insurance_type   5007 non-null   object \n",
      "dtypes: bool(2), float64(1), int64(3), object(6)\n",
      "memory usage: 401.1+ KB\n"
     ]
    }
   ],
   "source": [
    "# step 3 inspect the dataset (info, describe methods)\n",
    "df.info()"
   ]
  },
  {
   "cell_type": "code",
   "execution_count": 5,
   "id": "7747c63e",
   "metadata": {},
   "outputs": [
    {
     "data": {
      "application/vnd.microsoft.datawrangler.viewer.v0+json": {
       "columns": [
        {
         "name": "index",
         "rawType": "object",
         "type": "string"
        },
        {
         "name": "patient_id",
         "rawType": "float64",
         "type": "float"
        },
        {
         "name": "age",
         "rawType": "float64",
         "type": "float"
        },
        {
         "name": "bmi",
         "rawType": "float64",
         "type": "float"
        },
        {
         "name": "clinic_id",
         "rawType": "float64",
         "type": "float"
        }
       ],
       "ref": "48471361-5b15-4946-a44a-0bf002e4b5fb",
       "rows": [
        [
         "count",
         "5007.0",
         "5007.0",
         "5007.0",
         "5007.0"
        ],
        [
         "mean",
         "2497.009786299181",
         "50.90673057719193",
         "25.173576992210904",
         "3.3888556021569802"
        ],
        [
         "std",
         "1445.5238244842292",
         "19.404680844309354",
         "3.7700136927233983",
         "1.7491449964647536"
        ],
        [
         "min",
         "1.0",
         "18.0",
         "17.0",
         "1.0"
        ],
        [
         "25%",
         "1245.5",
         "34.0",
         "22.4",
         "2.0"
        ],
        [
         "50%",
         "2497.0",
         "51.0",
         "25.1",
         "3.0"
        ],
        [
         "75%",
         "3748.5",
         "68.0",
         "27.7",
         "5.0"
        ],
        [
         "max",
         "5000.0",
         "84.0",
         "38.8",
         "8.0"
        ]
       ],
       "shape": {
        "columns": 4,
        "rows": 8
       }
      },
      "text/html": [
       "<div>\n",
       "<style scoped>\n",
       "    .dataframe tbody tr th:only-of-type {\n",
       "        vertical-align: middle;\n",
       "    }\n",
       "\n",
       "    .dataframe tbody tr th {\n",
       "        vertical-align: top;\n",
       "    }\n",
       "\n",
       "    .dataframe thead th {\n",
       "        text-align: right;\n",
       "    }\n",
       "</style>\n",
       "<table border=\"1\" class=\"dataframe\">\n",
       "  <thead>\n",
       "    <tr style=\"text-align: right;\">\n",
       "      <th></th>\n",
       "      <th>patient_id</th>\n",
       "      <th>age</th>\n",
       "      <th>bmi</th>\n",
       "      <th>clinic_id</th>\n",
       "    </tr>\n",
       "  </thead>\n",
       "  <tbody>\n",
       "    <tr>\n",
       "      <th>count</th>\n",
       "      <td>5007.000000</td>\n",
       "      <td>5007.000000</td>\n",
       "      <td>5007.000000</td>\n",
       "      <td>5007.000000</td>\n",
       "    </tr>\n",
       "    <tr>\n",
       "      <th>mean</th>\n",
       "      <td>2497.009786</td>\n",
       "      <td>50.906731</td>\n",
       "      <td>25.173577</td>\n",
       "      <td>3.388856</td>\n",
       "    </tr>\n",
       "    <tr>\n",
       "      <th>std</th>\n",
       "      <td>1445.523824</td>\n",
       "      <td>19.404681</td>\n",
       "      <td>3.770014</td>\n",
       "      <td>1.749145</td>\n",
       "    </tr>\n",
       "    <tr>\n",
       "      <th>min</th>\n",
       "      <td>1.000000</td>\n",
       "      <td>18.000000</td>\n",
       "      <td>17.000000</td>\n",
       "      <td>1.000000</td>\n",
       "    </tr>\n",
       "    <tr>\n",
       "      <th>25%</th>\n",
       "      <td>1245.500000</td>\n",
       "      <td>34.000000</td>\n",
       "      <td>22.400000</td>\n",
       "      <td>2.000000</td>\n",
       "    </tr>\n",
       "    <tr>\n",
       "      <th>50%</th>\n",
       "      <td>2497.000000</td>\n",
       "      <td>51.000000</td>\n",
       "      <td>25.100000</td>\n",
       "      <td>3.000000</td>\n",
       "    </tr>\n",
       "    <tr>\n",
       "      <th>75%</th>\n",
       "      <td>3748.500000</td>\n",
       "      <td>68.000000</td>\n",
       "      <td>27.700000</td>\n",
       "      <td>5.000000</td>\n",
       "    </tr>\n",
       "    <tr>\n",
       "      <th>max</th>\n",
       "      <td>5000.000000</td>\n",
       "      <td>84.000000</td>\n",
       "      <td>38.800000</td>\n",
       "      <td>8.000000</td>\n",
       "    </tr>\n",
       "  </tbody>\n",
       "</table>\n",
       "</div>"
      ],
      "text/plain": [
       "        patient_id          age          bmi    clinic_id\n",
       "count  5007.000000  5007.000000  5007.000000  5007.000000\n",
       "mean   2497.009786    50.906731    25.173577     3.388856\n",
       "std    1445.523824    19.404681     3.770014     1.749145\n",
       "min       1.000000    18.000000    17.000000     1.000000\n",
       "25%    1245.500000    34.000000    22.400000     2.000000\n",
       "50%    2497.000000    51.000000    25.100000     3.000000\n",
       "75%    3748.500000    68.000000    27.700000     5.000000\n",
       "max    5000.000000    84.000000    38.800000     8.000000"
      ]
     },
     "execution_count": 5,
     "metadata": {},
     "output_type": "execute_result"
    }
   ],
   "source": [
    "# step 4 describe the dataset --- tries to perform a statistical/descriptive summary of the dataset\n",
    "df.describe()"
   ]
  },
  {
   "cell_type": "code",
   "execution_count": 6,
   "id": "92299abe",
   "metadata": {},
   "outputs": [
    {
     "data": {
      "application/vnd.microsoft.datawrangler.viewer.v0+json": {
       "columns": [
        {
         "name": "index",
         "rawType": "int64",
         "type": "integer"
        },
        {
         "name": "age",
         "rawType": "int64",
         "type": "integer"
        }
       ],
       "ref": "fb98d374-bb9a-4e88-83c1-b454c1718161",
       "rows": [
        [
         "0",
         "29"
        ],
        [
         "1",
         "68"
        ],
        [
         "2",
         "64"
        ],
        [
         "3",
         "41"
        ],
        [
         "4",
         "22"
        ],
        [
         "5",
         "83"
        ],
        [
         "6",
         "47"
        ],
        [
         "7",
         "77"
        ],
        [
         "8",
         "63"
        ],
        [
         "9",
         "70"
        ],
        [
         "10",
         "68"
        ],
        [
         "11",
         "31"
        ],
        [
         "12",
         "42"
        ],
        [
         "13",
         "49"
        ],
        [
         "14",
         "51"
        ],
        [
         "15",
         "20"
        ],
        [
         "16",
         "54"
        ],
        [
         "17",
         "28"
        ],
        [
         "18",
         "67"
        ],
        [
         "19",
         "63"
        ],
        [
         "20",
         "79"
        ],
        [
         "21",
         "67"
        ],
        [
         "22",
         "42"
        ],
        [
         "23",
         "82"
        ],
        [
         "24",
         "45"
        ],
        [
         "25",
         "39"
        ],
        [
         "26",
         "78"
        ],
        [
         "27",
         "42"
        ],
        [
         "28",
         "23"
        ],
        [
         "29",
         "49"
        ],
        [
         "30",
         "71"
        ],
        [
         "31",
         "30"
        ],
        [
         "32",
         "49"
        ],
        [
         "33",
         "26"
        ],
        [
         "34",
         "63"
        ],
        [
         "35",
         "49"
        ],
        [
         "36",
         "40"
        ],
        [
         "37",
         "33"
        ],
        [
         "38",
         "55"
        ],
        [
         "39",
         "62"
        ],
        [
         "40",
         "81"
        ],
        [
         "41",
         "47"
        ],
        [
         "42",
         "28"
        ],
        [
         "43",
         "73"
        ],
        [
         "44",
         "60"
        ],
        [
         "45",
         "64"
        ],
        [
         "46",
         "24"
        ],
        [
         "47",
         "38"
        ],
        [
         "48",
         "69"
        ],
        [
         "49",
         "73"
        ]
       ],
       "shape": {
        "columns": 1,
        "rows": 5007
       }
      },
      "text/plain": [
       "0       29\n",
       "1       68\n",
       "2       64\n",
       "3       41\n",
       "4       22\n",
       "        ..\n",
       "5002    64\n",
       "5003    41\n",
       "5004    22\n",
       "5005    83\n",
       "5006    47\n",
       "Name: age, Length: 5007, dtype: int64"
      ]
     },
     "execution_count": 6,
     "metadata": {},
     "output_type": "execute_result"
    }
   ],
   "source": [
    "# step 5 selecting columns (single column selection)\n",
    "df['age']"
   ]
  },
  {
   "cell_type": "code",
   "execution_count": 7,
   "id": "36e66069",
   "metadata": {},
   "outputs": [
    {
     "data": {
      "application/vnd.microsoft.datawrangler.viewer.v0+json": {
       "columns": [
        {
         "name": "index",
         "rawType": "int64",
         "type": "integer"
        },
        {
         "name": "age",
         "rawType": "int64",
         "type": "integer"
        },
        {
         "name": "bmi",
         "rawType": "float64",
         "type": "float"
        },
        {
         "name": "insurance_type",
         "rawType": "object",
         "type": "string"
        },
        {
         "name": "chronic_cond",
         "rawType": "object",
         "type": "unknown"
        }
       ],
       "ref": "4997e6fb-9aa5-4e90-8f9a-d2171f3e36bb",
       "rows": [
        [
         "0",
         "29",
         "23.9",
         "Public",
         null
        ],
        [
         "1",
         "68",
         "31.7",
         "Public",
         null
        ],
        [
         "2",
         "64",
         "27.5",
         "Public",
         null
        ],
        [
         "3",
         "41",
         "26.1",
         "Private-Premium",
         null
        ],
        [
         "4",
         "22",
         "21.3",
         "Private-Basic",
         null
        ],
        [
         "5",
         "83",
         "21.3",
         "Private-Premium",
         null
        ],
        [
         "6",
         "47",
         "19.4",
         "Public",
         "Hypertension"
        ],
        [
         "7",
         "77",
         "29.5",
         "Public",
         "Hypertension"
        ],
        [
         "8",
         "63",
         "26.1",
         "Private-Basic",
         null
        ],
        [
         "9",
         "70",
         "27.3",
         "Private-Top-Up",
         null
        ],
        [
         "10",
         "68",
         "18.1",
         "Private-Top-Up",
         null
        ],
        [
         "11",
         "31",
         "32.6",
         "Public",
         null
        ],
        [
         "12",
         "42",
         "28.9",
         "Private-Premium",
         null
        ],
        [
         "13",
         "49",
         "22.0",
         "Public",
         null
        ],
        [
         "14",
         "51",
         "21.6",
         "Public",
         null
        ],
        [
         "15",
         "20",
         "21.7",
         "Private-Premium",
         "Asthma"
        ],
        [
         "16",
         "54",
         "23.1",
         "Public",
         null
        ],
        [
         "17",
         "28",
         "25.4",
         "Public",
         "Hypertension"
        ],
        [
         "18",
         "67",
         "24.4",
         "Private-Basic",
         null
        ],
        [
         "19",
         "63",
         "23.0",
         "Public",
         null
        ],
        [
         "20",
         "79",
         "26.2",
         "Public",
         "Cardio"
        ],
        [
         "21",
         "67",
         "21.0",
         "Private-Basic",
         null
        ],
        [
         "22",
         "42",
         "23.0",
         "Private-Basic",
         "Diabetes"
        ],
        [
         "23",
         "82",
         "23.8",
         "Public",
         "Asthma"
        ],
        [
         "24",
         "45",
         "24.7",
         "Public",
         null
        ],
        [
         "25",
         "39",
         "28.2",
         "Private-Premium",
         null
        ],
        [
         "26",
         "78",
         "21.9",
         "Public",
         null
        ],
        [
         "27",
         "42",
         "25.3",
         "Private-Premium",
         null
        ],
        [
         "28",
         "23",
         "26.0",
         "Public",
         null
        ],
        [
         "29",
         "49",
         "19.0",
         "Private-Premium",
         null
        ],
        [
         "30",
         "71",
         "26.2",
         "Private-Basic",
         "Cardio"
        ],
        [
         "31",
         "30",
         "21.5",
         "Private-Top-Up",
         "Diabetes"
        ],
        [
         "32",
         "49",
         "19.5",
         "Public",
         null
        ],
        [
         "33",
         "26",
         "31.6",
         "Public",
         null
        ],
        [
         "34",
         "63",
         "32.3",
         "Public",
         "Diabetes"
        ],
        [
         "35",
         "49",
         "28.6",
         "Public",
         "Cardio"
        ],
        [
         "36",
         "40",
         "23.1",
         "Private-Premium",
         null
        ],
        [
         "37",
         "33",
         "20.3",
         "Public",
         null
        ],
        [
         "38",
         "55",
         "27.0",
         "Public",
         "Hypertension"
        ],
        [
         "39",
         "62",
         "24.5",
         "Public",
         "Cardio"
        ],
        [
         "40",
         "81",
         "20.7",
         "Public",
         "Cardio"
        ],
        [
         "41",
         "47",
         "25.1",
         "Private-Premium",
         null
        ],
        [
         "42",
         "28",
         "18.7",
         "Public",
         null
        ],
        [
         "43",
         "73",
         "30.4",
         "Public",
         null
        ],
        [
         "44",
         "60",
         "22.6",
         "Public",
         null
        ],
        [
         "45",
         "64",
         "26.8",
         "Public",
         "Cardio"
        ],
        [
         "46",
         "24",
         "23.2",
         "Public",
         null
        ],
        [
         "47",
         "38",
         "25.3",
         "Private-Premium",
         "Diabetes"
        ],
        [
         "48",
         "69",
         "25.6",
         "Public",
         "Cardio"
        ],
        [
         "49",
         "73",
         "21.7",
         "Public",
         "Asthma"
        ]
       ],
       "shape": {
        "columns": 4,
        "rows": 5007
       }
      },
      "text/html": [
       "<div>\n",
       "<style scoped>\n",
       "    .dataframe tbody tr th:only-of-type {\n",
       "        vertical-align: middle;\n",
       "    }\n",
       "\n",
       "    .dataframe tbody tr th {\n",
       "        vertical-align: top;\n",
       "    }\n",
       "\n",
       "    .dataframe thead th {\n",
       "        text-align: right;\n",
       "    }\n",
       "</style>\n",
       "<table border=\"1\" class=\"dataframe\">\n",
       "  <thead>\n",
       "    <tr style=\"text-align: right;\">\n",
       "      <th></th>\n",
       "      <th>age</th>\n",
       "      <th>bmi</th>\n",
       "      <th>insurance_type</th>\n",
       "      <th>chronic_cond</th>\n",
       "    </tr>\n",
       "  </thead>\n",
       "  <tbody>\n",
       "    <tr>\n",
       "      <th>0</th>\n",
       "      <td>29</td>\n",
       "      <td>23.9</td>\n",
       "      <td>Public</td>\n",
       "      <td>NaN</td>\n",
       "    </tr>\n",
       "    <tr>\n",
       "      <th>1</th>\n",
       "      <td>68</td>\n",
       "      <td>31.7</td>\n",
       "      <td>Public</td>\n",
       "      <td>NaN</td>\n",
       "    </tr>\n",
       "    <tr>\n",
       "      <th>2</th>\n",
       "      <td>64</td>\n",
       "      <td>27.5</td>\n",
       "      <td>Public</td>\n",
       "      <td>NaN</td>\n",
       "    </tr>\n",
       "    <tr>\n",
       "      <th>3</th>\n",
       "      <td>41</td>\n",
       "      <td>26.1</td>\n",
       "      <td>Private-Premium</td>\n",
       "      <td>NaN</td>\n",
       "    </tr>\n",
       "    <tr>\n",
       "      <th>4</th>\n",
       "      <td>22</td>\n",
       "      <td>21.3</td>\n",
       "      <td>Private-Basic</td>\n",
       "      <td>NaN</td>\n",
       "    </tr>\n",
       "    <tr>\n",
       "      <th>...</th>\n",
       "      <td>...</td>\n",
       "      <td>...</td>\n",
       "      <td>...</td>\n",
       "      <td>...</td>\n",
       "    </tr>\n",
       "    <tr>\n",
       "      <th>5002</th>\n",
       "      <td>64</td>\n",
       "      <td>27.5</td>\n",
       "      <td>Public</td>\n",
       "      <td>NaN</td>\n",
       "    </tr>\n",
       "    <tr>\n",
       "      <th>5003</th>\n",
       "      <td>41</td>\n",
       "      <td>26.1</td>\n",
       "      <td>Private-Premium</td>\n",
       "      <td>NaN</td>\n",
       "    </tr>\n",
       "    <tr>\n",
       "      <th>5004</th>\n",
       "      <td>22</td>\n",
       "      <td>21.3</td>\n",
       "      <td>Private-Basic</td>\n",
       "      <td>NaN</td>\n",
       "    </tr>\n",
       "    <tr>\n",
       "      <th>5005</th>\n",
       "      <td>83</td>\n",
       "      <td>21.3</td>\n",
       "      <td>Private-Premium</td>\n",
       "      <td>NaN</td>\n",
       "    </tr>\n",
       "    <tr>\n",
       "      <th>5006</th>\n",
       "      <td>47</td>\n",
       "      <td>19.4</td>\n",
       "      <td>Public</td>\n",
       "      <td>Hypertension</td>\n",
       "    </tr>\n",
       "  </tbody>\n",
       "</table>\n",
       "<p>5007 rows × 4 columns</p>\n",
       "</div>"
      ],
      "text/plain": [
       "      age   bmi   insurance_type  chronic_cond\n",
       "0      29  23.9           Public           NaN\n",
       "1      68  31.7           Public           NaN\n",
       "2      64  27.5           Public           NaN\n",
       "3      41  26.1  Private-Premium           NaN\n",
       "4      22  21.3    Private-Basic           NaN\n",
       "...   ...   ...              ...           ...\n",
       "5002   64  27.5           Public           NaN\n",
       "5003   41  26.1  Private-Premium           NaN\n",
       "5004   22  21.3    Private-Basic           NaN\n",
       "5005   83  21.3  Private-Premium           NaN\n",
       "5006   47  19.4           Public  Hypertension\n",
       "\n",
       "[5007 rows x 4 columns]"
      ]
     },
     "execution_count": 7,
     "metadata": {},
     "output_type": "execute_result"
    }
   ],
   "source": [
    "# step 6 selecting multiple columns\n",
    "df[['age', 'bmi', 'insurance_type', 'chronic_cond']]"
   ]
  },
  {
   "cell_type": "code",
   "execution_count": 8,
   "id": "e01482f5",
   "metadata": {},
   "outputs": [
    {
     "data": {
      "application/vnd.microsoft.datawrangler.viewer.v0+json": {
       "columns": [
        {
         "name": "index",
         "rawType": "int64",
         "type": "integer"
        },
        {
         "name": "patient_id",
         "rawType": "int64",
         "type": "integer"
        },
        {
         "name": "age",
         "rawType": "int64",
         "type": "integer"
        },
        {
         "name": "gender",
         "rawType": "object",
         "type": "string"
        },
        {
         "name": "bmi",
         "rawType": "float64",
         "type": "float"
        },
        {
         "name": "smoker",
         "rawType": "bool",
         "type": "boolean"
        },
        {
         "name": "chronic_cond",
         "rawType": "object",
         "type": "unknown"
        },
        {
         "name": "injury_type",
         "rawType": "object",
         "type": "string"
        },
        {
         "name": "signup_date",
         "rawType": "object",
         "type": "string"
        },
        {
         "name": "referral_source",
         "rawType": "object",
         "type": "string"
        },
        {
         "name": "consent",
         "rawType": "bool",
         "type": "boolean"
        },
        {
         "name": "clinic_id",
         "rawType": "int64",
         "type": "integer"
        },
        {
         "name": "insurance_type",
         "rawType": "object",
         "type": "string"
        }
       ],
       "ref": "5d88c2f1-3473-4cf0-8eb8-eb680848e6bb",
       "rows": [
        [
         "1",
         "2",
         "68",
         "Female",
         "31.7",
         "True",
         null,
         "Shoulder",
         "12:44.3",
         "Insurance",
         "False",
         "3",
         "Public"
        ],
        [
         "3",
         "4",
         "41",
         "Female",
         "26.1",
         "False",
         null,
         "Back",
         "12:44.3",
         "GP",
         "True",
         "2",
         "Private-Premium"
        ],
        [
         "4",
         "5",
         "22",
         "Female",
         "21.3",
         "False",
         null,
         "Shoulder",
         "12:44.3",
         "Insurance",
         "True",
         "4",
         "Private-Basic"
        ],
        [
         "6",
         "7",
         "47",
         "Female",
         "19.4",
         "False",
         "Hypertension",
         "Neck",
         "12:44.3",
         "GP",
         "True",
         "5",
         "Public"
        ],
        [
         "7",
         "8",
         "77",
         "Female",
         "29.5",
         "True",
         "Hypertension",
         "Back",
         "12:44.3",
         "GP",
         "True",
         "5",
         "Public"
        ],
        [
         "8",
         "9",
         "63",
         "Female",
         "26.1",
         "False",
         null,
         "Shoulder",
         "12:44.3",
         "Self-Referral",
         "True",
         "2",
         "Private-Basic"
        ],
        [
         "9",
         "10",
         "70",
         "Female",
         "27.3",
         "False",
         null,
         "Back",
         "12:44.3",
         "GP",
         "True",
         "1",
         "Private-Top-Up"
        ],
        [
         "10",
         "11",
         "68",
         "Female",
         "18.1",
         "False",
         null,
         "Back",
         "12:44.3",
         "GP",
         "True",
         "5",
         "Private-Top-Up"
        ],
        [
         "11",
         "12",
         "31",
         "Female",
         "32.6",
         "True",
         null,
         "Shoulder",
         "12:44.3",
         "GP",
         "False",
         "1",
         "Public"
        ],
        [
         "12",
         "13",
         "42",
         "Female",
         "28.9",
         "True",
         null,
         "Knee",
         "12:44.3",
         "Hospital",
         "True",
         "4",
         "Private-Premium"
        ],
        [
         "14",
         "15",
         "51",
         "Female",
         "21.6",
         "False",
         null,
         "Knee",
         "12:44.3",
         "Self-Referral",
         "True",
         "1",
         "Public"
        ],
        [
         "15",
         "16",
         "20",
         "Female",
         "21.7",
         "False",
         "Asthma",
         "Hip",
         "12:44.3",
         "GP",
         "True",
         "4",
         "Private-Premium"
        ],
        [
         "16",
         "17",
         "54",
         "Female",
         "23.1",
         "False",
         null,
         "Back",
         "12:44.3",
         "GP",
         "True",
         "3",
         "Public"
        ],
        [
         "19",
         "20",
         "63",
         "Female",
         "23.0",
         "False",
         null,
         "Shoulder",
         "12:44.3",
         "GP",
         "True",
         "1",
         "Public"
        ],
        [
         "20",
         "21",
         "79",
         "Female",
         "26.2",
         "False",
         "Cardio",
         "Knee",
         "12:44.3",
         "Insurance",
         "True",
         "1",
         "Public"
        ],
        [
         "24",
         "25",
         "45",
         "Female",
         "24.7",
         "False",
         null,
         "Knee",
         "12:44.3",
         "GP",
         "True",
         "1",
         "Public"
        ],
        [
         "26",
         "27",
         "78",
         "Female",
         "21.9",
         "False",
         null,
         "Ankle",
         "12:44.3",
         "Hospital",
         "True",
         "1",
         "Public"
        ],
        [
         "30",
         "31",
         "71",
         "Female",
         "26.2",
         "False",
         "Cardio",
         "Shoulder",
         "12:44.3",
         "GP",
         "True",
         "2",
         "Private-Basic"
        ],
        [
         "31",
         "32",
         "30",
         "Female",
         "21.5",
         "False",
         "Diabetes",
         "Knee",
         "12:44.3",
         "Self-Referral",
         "True",
         "7",
         "Private-Top-Up"
        ],
        [
         "32",
         "33",
         "49",
         "Female",
         "19.5",
         "False",
         null,
         "Shoulder",
         "12:44.3",
         "Hospital",
         "True",
         "3",
         "Public"
        ],
        [
         "33",
         "34",
         "26",
         "Female",
         "31.6",
         "True",
         null,
         "Knee",
         "12:44.3",
         "GP",
         "True",
         "1",
         "Public"
        ],
        [
         "35",
         "36",
         "49",
         "Female",
         "28.6",
         "False",
         "Cardio",
         "Knee",
         "12:44.3",
         "GP",
         "True",
         "6",
         "Public"
        ],
        [
         "40",
         "41",
         "81",
         "Female",
         "20.7",
         "False",
         "Cardio",
         "Back",
         "12:44.3",
         "Hospital",
         "True",
         "5",
         "Public"
        ],
        [
         "41",
         "42",
         "47",
         "Female",
         "25.1",
         "False",
         null,
         "Knee",
         "12:44.3",
         "GP",
         "True",
         "8",
         "Private-Premium"
        ],
        [
         "42",
         "43",
         "28",
         "Female",
         "18.7",
         "False",
         null,
         "Neck",
         "12:44.3",
         "GP",
         "True",
         "1",
         "Public"
        ],
        [
         "43",
         "44",
         "73",
         "Female",
         "30.4",
         "True",
         null,
         "Hip",
         "12:44.3",
         "GP",
         "True",
         "1",
         "Public"
        ],
        [
         "44",
         "45",
         "60",
         "Female",
         "22.6",
         "False",
         null,
         "Knee",
         "12:44.3",
         "GP",
         "True",
         "5",
         "Public"
        ],
        [
         "48",
         "49",
         "69",
         "Female",
         "25.6",
         "False",
         "Cardio",
         "Hip",
         "12:44.3",
         "GP",
         "True",
         "6",
         "Public"
        ],
        [
         "49",
         "50",
         "73",
         "Female",
         "21.7",
         "False",
         "Asthma",
         "Knee",
         "12:44.3",
         "GP",
         "True",
         "1",
         "Public"
        ],
        [
         "51",
         "52",
         "71",
         "Female",
         "28.1",
         "False",
         "Cardio",
         "Ankle",
         "12:44.3",
         "Insurance",
         "True",
         "2",
         "Private-Basic"
        ],
        [
         "52",
         "53",
         "74",
         "Female",
         "31.2",
         "True",
         null,
         "Shoulder",
         "12:44.3",
         "GP",
         "True",
         "1",
         "Public"
        ],
        [
         "53",
         "54",
         "43",
         "Female",
         "30.1",
         "True",
         null,
         "Back",
         "12:44.3",
         "GP",
         "True",
         "3",
         "Public"
        ],
        [
         "54",
         "55",
         "78",
         "Female",
         "26.1",
         "False",
         null,
         "Shoulder",
         "12:44.3",
         "GP",
         "True",
         "2",
         "Private-Basic"
        ],
        [
         "55",
         "56",
         "37",
         "Female",
         "30.7",
         "True",
         "Asthma",
         "Knee",
         "12:44.3",
         "Insurance",
         "True",
         "4",
         "Private-Premium"
        ],
        [
         "56",
         "57",
         "34",
         "Female",
         "20.1",
         "False",
         "Cardio",
         "Knee",
         "12:44.3",
         "GP",
         "True",
         "3",
         "Public"
        ],
        [
         "57",
         "58",
         "63",
         "Female",
         "21.8",
         "False",
         null,
         "Hip",
         "12:44.3",
         "Self-Referral",
         "True",
         "1",
         "Private-Top-Up"
        ],
        [
         "59",
         "60",
         "27",
         "Female",
         "23.4",
         "False",
         null,
         "Knee",
         "12:44.3",
         "GP",
         "True",
         "3",
         "Public"
        ],
        [
         "61",
         "62",
         "31",
         "Female",
         "22.8",
         "False",
         "Hypertension",
         "Back",
         "12:44.3",
         "Self-Referral",
         "True",
         "1",
         "Public"
        ],
        [
         "70",
         "71",
         "36",
         "Female",
         "28.1",
         "False",
         null,
         "Shoulder",
         "12:44.3",
         "Hospital",
         "True",
         "3",
         "Public"
        ],
        [
         "71",
         "72",
         "70",
         "Female",
         "21.9",
         "False",
         "Cardio",
         "Ankle",
         "12:44.3",
         "Hospital",
         "True",
         "1",
         "Public"
        ],
        [
         "72",
         "73",
         "55",
         "Female",
         "17.4",
         "False",
         "Hypertension",
         "Neck",
         "12:44.3",
         "GP",
         "True",
         "3",
         "Public"
        ],
        [
         "75",
         "76",
         "56",
         "Female",
         "27.5",
         "False",
         "Cardio",
         "Neck",
         "12:44.3",
         "GP",
         "True",
         "5",
         "Private-Top-Up"
        ],
        [
         "78",
         "79",
         "34",
         "Female",
         "23.7",
         "False",
         null,
         "Shoulder",
         "12:44.3",
         "GP",
         "True",
         "2",
         "Private-Basic"
        ],
        [
         "79",
         "80",
         "25",
         "Female",
         "20.6",
         "False",
         null,
         "Knee",
         "12:44.3",
         "GP",
         "True",
         "5",
         "Public"
        ],
        [
         "81",
         "82",
         "62",
         "Female",
         "26.3",
         "False",
         "Asthma",
         "Ankle",
         "12:44.3",
         "Insurance",
         "True",
         "3",
         "Public"
        ],
        [
         "83",
         "84",
         "49",
         "Female",
         "19.5",
         "False",
         null,
         "Back",
         "12:44.3",
         "Insurance",
         "True",
         "2",
         "Private-Premium"
        ],
        [
         "86",
         "87",
         "23",
         "Female",
         "27.5",
         "False",
         "Hypertension",
         "Shoulder",
         "12:44.3",
         "GP",
         "True",
         "5",
         "Public"
        ],
        [
         "88",
         "89",
         "56",
         "Female",
         "29.9",
         "True",
         null,
         "Knee",
         "12:44.3",
         "Self-Referral",
         "True",
         "3",
         "Public"
        ],
        [
         "90",
         "91",
         "55",
         "Female",
         "20.7",
         "False",
         "Hypertension",
         "Neck",
         "12:44.3",
         "Insurance",
         "True",
         "5",
         "Public"
        ],
        [
         "91",
         "92",
         "55",
         "Female",
         "27.3",
         "False",
         "Diabetes",
         "Back",
         "12:44.3",
         "GP",
         "True",
         "2",
         "Private-Premium"
        ]
       ],
       "shape": {
        "columns": 12,
        "rows": 2565
       }
      },
      "text/html": [
       "<div>\n",
       "<style scoped>\n",
       "    .dataframe tbody tr th:only-of-type {\n",
       "        vertical-align: middle;\n",
       "    }\n",
       "\n",
       "    .dataframe tbody tr th {\n",
       "        vertical-align: top;\n",
       "    }\n",
       "\n",
       "    .dataframe thead th {\n",
       "        text-align: right;\n",
       "    }\n",
       "</style>\n",
       "<table border=\"1\" class=\"dataframe\">\n",
       "  <thead>\n",
       "    <tr style=\"text-align: right;\">\n",
       "      <th></th>\n",
       "      <th>patient_id</th>\n",
       "      <th>age</th>\n",
       "      <th>gender</th>\n",
       "      <th>bmi</th>\n",
       "      <th>smoker</th>\n",
       "      <th>chronic_cond</th>\n",
       "      <th>injury_type</th>\n",
       "      <th>signup_date</th>\n",
       "      <th>referral_source</th>\n",
       "      <th>consent</th>\n",
       "      <th>clinic_id</th>\n",
       "      <th>insurance_type</th>\n",
       "    </tr>\n",
       "  </thead>\n",
       "  <tbody>\n",
       "    <tr>\n",
       "      <th>1</th>\n",
       "      <td>2</td>\n",
       "      <td>68</td>\n",
       "      <td>Female</td>\n",
       "      <td>31.7</td>\n",
       "      <td>True</td>\n",
       "      <td>NaN</td>\n",
       "      <td>Shoulder</td>\n",
       "      <td>12:44.3</td>\n",
       "      <td>Insurance</td>\n",
       "      <td>False</td>\n",
       "      <td>3</td>\n",
       "      <td>Public</td>\n",
       "    </tr>\n",
       "    <tr>\n",
       "      <th>3</th>\n",
       "      <td>4</td>\n",
       "      <td>41</td>\n",
       "      <td>Female</td>\n",
       "      <td>26.1</td>\n",
       "      <td>False</td>\n",
       "      <td>NaN</td>\n",
       "      <td>Back</td>\n",
       "      <td>12:44.3</td>\n",
       "      <td>GP</td>\n",
       "      <td>True</td>\n",
       "      <td>2</td>\n",
       "      <td>Private-Premium</td>\n",
       "    </tr>\n",
       "    <tr>\n",
       "      <th>4</th>\n",
       "      <td>5</td>\n",
       "      <td>22</td>\n",
       "      <td>Female</td>\n",
       "      <td>21.3</td>\n",
       "      <td>False</td>\n",
       "      <td>NaN</td>\n",
       "      <td>Shoulder</td>\n",
       "      <td>12:44.3</td>\n",
       "      <td>Insurance</td>\n",
       "      <td>True</td>\n",
       "      <td>4</td>\n",
       "      <td>Private-Basic</td>\n",
       "    </tr>\n",
       "    <tr>\n",
       "      <th>6</th>\n",
       "      <td>7</td>\n",
       "      <td>47</td>\n",
       "      <td>Female</td>\n",
       "      <td>19.4</td>\n",
       "      <td>False</td>\n",
       "      <td>Hypertension</td>\n",
       "      <td>Neck</td>\n",
       "      <td>12:44.3</td>\n",
       "      <td>GP</td>\n",
       "      <td>True</td>\n",
       "      <td>5</td>\n",
       "      <td>Public</td>\n",
       "    </tr>\n",
       "    <tr>\n",
       "      <th>7</th>\n",
       "      <td>8</td>\n",
       "      <td>77</td>\n",
       "      <td>Female</td>\n",
       "      <td>29.5</td>\n",
       "      <td>True</td>\n",
       "      <td>Hypertension</td>\n",
       "      <td>Back</td>\n",
       "      <td>12:44.3</td>\n",
       "      <td>GP</td>\n",
       "      <td>True</td>\n",
       "      <td>5</td>\n",
       "      <td>Public</td>\n",
       "    </tr>\n",
       "    <tr>\n",
       "      <th>...</th>\n",
       "      <td>...</td>\n",
       "      <td>...</td>\n",
       "      <td>...</td>\n",
       "      <td>...</td>\n",
       "      <td>...</td>\n",
       "      <td>...</td>\n",
       "      <td>...</td>\n",
       "      <td>...</td>\n",
       "      <td>...</td>\n",
       "      <td>...</td>\n",
       "      <td>...</td>\n",
       "      <td>...</td>\n",
       "    </tr>\n",
       "    <tr>\n",
       "      <th>4997</th>\n",
       "      <td>4998</td>\n",
       "      <td>54</td>\n",
       "      <td>Female</td>\n",
       "      <td>23.4</td>\n",
       "      <td>False</td>\n",
       "      <td>NaN</td>\n",
       "      <td>Back</td>\n",
       "      <td>12:44.3</td>\n",
       "      <td>GP</td>\n",
       "      <td>True</td>\n",
       "      <td>1</td>\n",
       "      <td>Public</td>\n",
       "    </tr>\n",
       "    <tr>\n",
       "      <th>5001</th>\n",
       "      <td>2</td>\n",
       "      <td>68</td>\n",
       "      <td>Female</td>\n",
       "      <td>31.7</td>\n",
       "      <td>True</td>\n",
       "      <td>NaN</td>\n",
       "      <td>Shoulder</td>\n",
       "      <td>12:44.3</td>\n",
       "      <td>Insurance</td>\n",
       "      <td>False</td>\n",
       "      <td>3</td>\n",
       "      <td>Public</td>\n",
       "    </tr>\n",
       "    <tr>\n",
       "      <th>5003</th>\n",
       "      <td>4</td>\n",
       "      <td>41</td>\n",
       "      <td>Female</td>\n",
       "      <td>26.1</td>\n",
       "      <td>False</td>\n",
       "      <td>NaN</td>\n",
       "      <td>Back</td>\n",
       "      <td>12:44.3</td>\n",
       "      <td>GP</td>\n",
       "      <td>True</td>\n",
       "      <td>2</td>\n",
       "      <td>Private-Premium</td>\n",
       "    </tr>\n",
       "    <tr>\n",
       "      <th>5004</th>\n",
       "      <td>5</td>\n",
       "      <td>22</td>\n",
       "      <td>Female</td>\n",
       "      <td>21.3</td>\n",
       "      <td>False</td>\n",
       "      <td>NaN</td>\n",
       "      <td>Shoulder</td>\n",
       "      <td>12:44.3</td>\n",
       "      <td>Insurance</td>\n",
       "      <td>True</td>\n",
       "      <td>4</td>\n",
       "      <td>Private-Basic</td>\n",
       "    </tr>\n",
       "    <tr>\n",
       "      <th>5006</th>\n",
       "      <td>7</td>\n",
       "      <td>47</td>\n",
       "      <td>Female</td>\n",
       "      <td>19.4</td>\n",
       "      <td>False</td>\n",
       "      <td>Hypertension</td>\n",
       "      <td>Neck</td>\n",
       "      <td>12:44.3</td>\n",
       "      <td>GP</td>\n",
       "      <td>True</td>\n",
       "      <td>5</td>\n",
       "      <td>Public</td>\n",
       "    </tr>\n",
       "  </tbody>\n",
       "</table>\n",
       "<p>2565 rows × 12 columns</p>\n",
       "</div>"
      ],
      "text/plain": [
       "      patient_id  age  gender   bmi  smoker  chronic_cond injury_type  \\\n",
       "1              2   68  Female  31.7    True           NaN    Shoulder   \n",
       "3              4   41  Female  26.1   False           NaN        Back   \n",
       "4              5   22  Female  21.3   False           NaN    Shoulder   \n",
       "6              7   47  Female  19.4   False  Hypertension        Neck   \n",
       "7              8   77  Female  29.5    True  Hypertension        Back   \n",
       "...          ...  ...     ...   ...     ...           ...         ...   \n",
       "4997        4998   54  Female  23.4   False           NaN        Back   \n",
       "5001           2   68  Female  31.7    True           NaN    Shoulder   \n",
       "5003           4   41  Female  26.1   False           NaN        Back   \n",
       "5004           5   22  Female  21.3   False           NaN    Shoulder   \n",
       "5006           7   47  Female  19.4   False  Hypertension        Neck   \n",
       "\n",
       "     signup_date referral_source  consent  clinic_id   insurance_type  \n",
       "1        12:44.3       Insurance    False          3           Public  \n",
       "3        12:44.3              GP     True          2  Private-Premium  \n",
       "4        12:44.3       Insurance     True          4    Private-Basic  \n",
       "6        12:44.3              GP     True          5           Public  \n",
       "7        12:44.3              GP     True          5           Public  \n",
       "...          ...             ...      ...        ...              ...  \n",
       "4997     12:44.3              GP     True          1           Public  \n",
       "5001     12:44.3       Insurance    False          3           Public  \n",
       "5003     12:44.3              GP     True          2  Private-Premium  \n",
       "5004     12:44.3       Insurance     True          4    Private-Basic  \n",
       "5006     12:44.3              GP     True          5           Public  \n",
       "\n",
       "[2565 rows x 12 columns]"
      ]
     },
     "execution_count": 8,
     "metadata": {},
     "output_type": "execute_result"
    }
   ],
   "source": [
    "# step 5 Filtering of rows (single condition)\n",
    "df[df['age'] < 20] \n",
    "\n",
    "df[df['gender'] == 'Female' ]"
   ]
  },
  {
   "cell_type": "code",
   "execution_count": 9,
   "id": "6e5007f3",
   "metadata": {},
   "outputs": [
    {
     "data": {
      "application/vnd.microsoft.datawrangler.viewer.v0+json": {
       "columns": [
        {
         "name": "index",
         "rawType": "int64",
         "type": "integer"
        },
        {
         "name": "patient_id",
         "rawType": "int64",
         "type": "integer"
        },
        {
         "name": "age",
         "rawType": "int64",
         "type": "integer"
        },
        {
         "name": "gender",
         "rawType": "object",
         "type": "string"
        },
        {
         "name": "bmi",
         "rawType": "float64",
         "type": "float"
        },
        {
         "name": "smoker",
         "rawType": "bool",
         "type": "boolean"
        },
        {
         "name": "chronic_cond",
         "rawType": "object",
         "type": "unknown"
        },
        {
         "name": "injury_type",
         "rawType": "object",
         "type": "string"
        },
        {
         "name": "signup_date",
         "rawType": "object",
         "type": "string"
        },
        {
         "name": "referral_source",
         "rawType": "object",
         "type": "string"
        },
        {
         "name": "consent",
         "rawType": "bool",
         "type": "boolean"
        },
        {
         "name": "clinic_id",
         "rawType": "int64",
         "type": "integer"
        },
        {
         "name": "insurance_type",
         "rawType": "object",
         "type": "string"
        }
       ],
       "ref": "9afa949f-02ff-4a59-aa0a-7c76885fcc46",
       "rows": [
        [
         "351",
         "352",
         "30",
         "Male",
         "29.3",
         "True",
         null,
         "Back",
         "12:44.3",
         "GP",
         "True",
         "1",
         "Public"
        ],
        [
         "523",
         "524",
         "30",
         "Male",
         "29.1",
         "True",
         null,
         "Neck",
         "12:44.3",
         "Hospital",
         "True",
         "2",
         "Private-Basic"
        ],
        [
         "594",
         "595",
         "30",
         "Male",
         "30.1",
         "True",
         null,
         "Back",
         "12:44.3",
         "GP",
         "True",
         "6",
         "Public"
        ],
        [
         "2351",
         "2352",
         "30",
         "Male",
         "30.5",
         "True",
         "Hypertension",
         "Hip",
         "12:44.3",
         "GP",
         "True",
         "1",
         "Public"
        ],
        [
         "2820",
         "2821",
         "30",
         "Male",
         "30.8",
         "True",
         "Hypertension",
         "Back",
         "12:44.3",
         "GP",
         "True",
         "5",
         "Public"
        ],
        [
         "3627",
         "3628",
         "30",
         "Male",
         "29.6",
         "True",
         null,
         "Back",
         "12:44.3",
         "Insurance",
         "True",
         "3",
         "Public"
        ],
        [
         "4127",
         "4128",
         "30",
         "Male",
         "31.5",
         "True",
         null,
         "Back",
         "12:44.3",
         "GP",
         "True",
         "1",
         "Private-Top-Up"
        ],
        [
         "4915",
         "4916",
         "30",
         "Male",
         "30.6",
         "True",
         null,
         "Ankle",
         "12:44.3",
         "GP",
         "True",
         "4",
         "Private-Premium"
        ],
        [
         "4942",
         "4943",
         "30",
         "Male",
         "29.2",
         "True",
         null,
         "Hip",
         "12:44.3",
         "Self-Referral",
         "True",
         "2",
         "Private-Premium"
        ]
       ],
       "shape": {
        "columns": 12,
        "rows": 9
       }
      },
      "text/html": [
       "<div>\n",
       "<style scoped>\n",
       "    .dataframe tbody tr th:only-of-type {\n",
       "        vertical-align: middle;\n",
       "    }\n",
       "\n",
       "    .dataframe tbody tr th {\n",
       "        vertical-align: top;\n",
       "    }\n",
       "\n",
       "    .dataframe thead th {\n",
       "        text-align: right;\n",
       "    }\n",
       "</style>\n",
       "<table border=\"1\" class=\"dataframe\">\n",
       "  <thead>\n",
       "    <tr style=\"text-align: right;\">\n",
       "      <th></th>\n",
       "      <th>patient_id</th>\n",
       "      <th>age</th>\n",
       "      <th>gender</th>\n",
       "      <th>bmi</th>\n",
       "      <th>smoker</th>\n",
       "      <th>chronic_cond</th>\n",
       "      <th>injury_type</th>\n",
       "      <th>signup_date</th>\n",
       "      <th>referral_source</th>\n",
       "      <th>consent</th>\n",
       "      <th>clinic_id</th>\n",
       "      <th>insurance_type</th>\n",
       "    </tr>\n",
       "  </thead>\n",
       "  <tbody>\n",
       "    <tr>\n",
       "      <th>351</th>\n",
       "      <td>352</td>\n",
       "      <td>30</td>\n",
       "      <td>Male</td>\n",
       "      <td>29.3</td>\n",
       "      <td>True</td>\n",
       "      <td>NaN</td>\n",
       "      <td>Back</td>\n",
       "      <td>12:44.3</td>\n",
       "      <td>GP</td>\n",
       "      <td>True</td>\n",
       "      <td>1</td>\n",
       "      <td>Public</td>\n",
       "    </tr>\n",
       "    <tr>\n",
       "      <th>523</th>\n",
       "      <td>524</td>\n",
       "      <td>30</td>\n",
       "      <td>Male</td>\n",
       "      <td>29.1</td>\n",
       "      <td>True</td>\n",
       "      <td>NaN</td>\n",
       "      <td>Neck</td>\n",
       "      <td>12:44.3</td>\n",
       "      <td>Hospital</td>\n",
       "      <td>True</td>\n",
       "      <td>2</td>\n",
       "      <td>Private-Basic</td>\n",
       "    </tr>\n",
       "    <tr>\n",
       "      <th>594</th>\n",
       "      <td>595</td>\n",
       "      <td>30</td>\n",
       "      <td>Male</td>\n",
       "      <td>30.1</td>\n",
       "      <td>True</td>\n",
       "      <td>NaN</td>\n",
       "      <td>Back</td>\n",
       "      <td>12:44.3</td>\n",
       "      <td>GP</td>\n",
       "      <td>True</td>\n",
       "      <td>6</td>\n",
       "      <td>Public</td>\n",
       "    </tr>\n",
       "    <tr>\n",
       "      <th>2351</th>\n",
       "      <td>2352</td>\n",
       "      <td>30</td>\n",
       "      <td>Male</td>\n",
       "      <td>30.5</td>\n",
       "      <td>True</td>\n",
       "      <td>Hypertension</td>\n",
       "      <td>Hip</td>\n",
       "      <td>12:44.3</td>\n",
       "      <td>GP</td>\n",
       "      <td>True</td>\n",
       "      <td>1</td>\n",
       "      <td>Public</td>\n",
       "    </tr>\n",
       "    <tr>\n",
       "      <th>2820</th>\n",
       "      <td>2821</td>\n",
       "      <td>30</td>\n",
       "      <td>Male</td>\n",
       "      <td>30.8</td>\n",
       "      <td>True</td>\n",
       "      <td>Hypertension</td>\n",
       "      <td>Back</td>\n",
       "      <td>12:44.3</td>\n",
       "      <td>GP</td>\n",
       "      <td>True</td>\n",
       "      <td>5</td>\n",
       "      <td>Public</td>\n",
       "    </tr>\n",
       "    <tr>\n",
       "      <th>3627</th>\n",
       "      <td>3628</td>\n",
       "      <td>30</td>\n",
       "      <td>Male</td>\n",
       "      <td>29.6</td>\n",
       "      <td>True</td>\n",
       "      <td>NaN</td>\n",
       "      <td>Back</td>\n",
       "      <td>12:44.3</td>\n",
       "      <td>Insurance</td>\n",
       "      <td>True</td>\n",
       "      <td>3</td>\n",
       "      <td>Public</td>\n",
       "    </tr>\n",
       "    <tr>\n",
       "      <th>4127</th>\n",
       "      <td>4128</td>\n",
       "      <td>30</td>\n",
       "      <td>Male</td>\n",
       "      <td>31.5</td>\n",
       "      <td>True</td>\n",
       "      <td>NaN</td>\n",
       "      <td>Back</td>\n",
       "      <td>12:44.3</td>\n",
       "      <td>GP</td>\n",
       "      <td>True</td>\n",
       "      <td>1</td>\n",
       "      <td>Private-Top-Up</td>\n",
       "    </tr>\n",
       "    <tr>\n",
       "      <th>4915</th>\n",
       "      <td>4916</td>\n",
       "      <td>30</td>\n",
       "      <td>Male</td>\n",
       "      <td>30.6</td>\n",
       "      <td>True</td>\n",
       "      <td>NaN</td>\n",
       "      <td>Ankle</td>\n",
       "      <td>12:44.3</td>\n",
       "      <td>GP</td>\n",
       "      <td>True</td>\n",
       "      <td>4</td>\n",
       "      <td>Private-Premium</td>\n",
       "    </tr>\n",
       "    <tr>\n",
       "      <th>4942</th>\n",
       "      <td>4943</td>\n",
       "      <td>30</td>\n",
       "      <td>Male</td>\n",
       "      <td>29.2</td>\n",
       "      <td>True</td>\n",
       "      <td>NaN</td>\n",
       "      <td>Hip</td>\n",
       "      <td>12:44.3</td>\n",
       "      <td>Self-Referral</td>\n",
       "      <td>True</td>\n",
       "      <td>2</td>\n",
       "      <td>Private-Premium</td>\n",
       "    </tr>\n",
       "  </tbody>\n",
       "</table>\n",
       "</div>"
      ],
      "text/plain": [
       "      patient_id  age gender   bmi  smoker  chronic_cond injury_type  \\\n",
       "351          352   30   Male  29.3    True           NaN        Back   \n",
       "523          524   30   Male  29.1    True           NaN        Neck   \n",
       "594          595   30   Male  30.1    True           NaN        Back   \n",
       "2351        2352   30   Male  30.5    True  Hypertension         Hip   \n",
       "2820        2821   30   Male  30.8    True  Hypertension        Back   \n",
       "3627        3628   30   Male  29.6    True           NaN        Back   \n",
       "4127        4128   30   Male  31.5    True           NaN        Back   \n",
       "4915        4916   30   Male  30.6    True           NaN       Ankle   \n",
       "4942        4943   30   Male  29.2    True           NaN         Hip   \n",
       "\n",
       "     signup_date referral_source  consent  clinic_id   insurance_type  \n",
       "351      12:44.3              GP     True          1           Public  \n",
       "523      12:44.3        Hospital     True          2    Private-Basic  \n",
       "594      12:44.3              GP     True          6           Public  \n",
       "2351     12:44.3              GP     True          1           Public  \n",
       "2820     12:44.3              GP     True          5           Public  \n",
       "3627     12:44.3       Insurance     True          3           Public  \n",
       "4127     12:44.3              GP     True          1   Private-Top-Up  \n",
       "4915     12:44.3              GP     True          4  Private-Premium  \n",
       "4942     12:44.3   Self-Referral     True          2  Private-Premium  "
      ]
     },
     "execution_count": 9,
     "metadata": {},
     "output_type": "execute_result"
    }
   ],
   "source": [
    "# step 6 Filtering of rows (multiple conditions)\n",
    "df[ (df['age'] == 30) & ( df['gender'] == 'Male') & (df['smoker'] == True)   ]"
   ]
  },
  {
   "cell_type": "code",
   "execution_count": null,
   "id": "856f49a3",
   "metadata": {},
   "outputs": [],
   "source": []
  },
  {
   "cell_type": "code",
   "execution_count": 10,
   "id": "80b23128",
   "metadata": {},
   "outputs": [],
   "source": [
    "# step 7 : Adding New columns \n",
    "df['age_in_5_years'] = df['age'] + 5\n"
   ]
  },
  {
   "cell_type": "code",
   "execution_count": 11,
   "id": "938c40f6",
   "metadata": {},
   "outputs": [
    {
     "data": {
      "application/vnd.microsoft.datawrangler.viewer.v0+json": {
       "columns": [
        {
         "name": "index",
         "rawType": "int64",
         "type": "integer"
        },
        {
         "name": "patient_id",
         "rawType": "int64",
         "type": "integer"
        },
        {
         "name": "age",
         "rawType": "int64",
         "type": "integer"
        },
        {
         "name": "gender",
         "rawType": "object",
         "type": "string"
        },
        {
         "name": "bmi",
         "rawType": "float64",
         "type": "float"
        },
        {
         "name": "smoker",
         "rawType": "bool",
         "type": "boolean"
        },
        {
         "name": "chronic_cond",
         "rawType": "object",
         "type": "unknown"
        },
        {
         "name": "injury_type",
         "rawType": "object",
         "type": "string"
        },
        {
         "name": "signup_date",
         "rawType": "object",
         "type": "string"
        },
        {
         "name": "referral_source",
         "rawType": "object",
         "type": "string"
        },
        {
         "name": "consent",
         "rawType": "bool",
         "type": "boolean"
        },
        {
         "name": "clinic_id",
         "rawType": "int64",
         "type": "integer"
        },
        {
         "name": "insurance_type",
         "rawType": "object",
         "type": "string"
        },
        {
         "name": "age_in_5_years",
         "rawType": "int64",
         "type": "integer"
        }
       ],
       "ref": "98d529bb-f13d-469b-82f9-fcd3fd6fc7a1",
       "rows": [
        [
         "0",
         "1",
         "29",
         "Male",
         "23.9",
         "False",
         null,
         "Knee",
         "12:44.3",
         "Insurance",
         "True",
         "6",
         "Public",
         "34"
        ],
        [
         "1",
         "2",
         "68",
         "Female",
         "31.7",
         "True",
         null,
         "Shoulder",
         "12:44.3",
         "Insurance",
         "False",
         "3",
         "Public",
         "73"
        ]
       ],
       "shape": {
        "columns": 13,
        "rows": 2
       }
      },
      "text/html": [
       "<div>\n",
       "<style scoped>\n",
       "    .dataframe tbody tr th:only-of-type {\n",
       "        vertical-align: middle;\n",
       "    }\n",
       "\n",
       "    .dataframe tbody tr th {\n",
       "        vertical-align: top;\n",
       "    }\n",
       "\n",
       "    .dataframe thead th {\n",
       "        text-align: right;\n",
       "    }\n",
       "</style>\n",
       "<table border=\"1\" class=\"dataframe\">\n",
       "  <thead>\n",
       "    <tr style=\"text-align: right;\">\n",
       "      <th></th>\n",
       "      <th>patient_id</th>\n",
       "      <th>age</th>\n",
       "      <th>gender</th>\n",
       "      <th>bmi</th>\n",
       "      <th>smoker</th>\n",
       "      <th>chronic_cond</th>\n",
       "      <th>injury_type</th>\n",
       "      <th>signup_date</th>\n",
       "      <th>referral_source</th>\n",
       "      <th>consent</th>\n",
       "      <th>clinic_id</th>\n",
       "      <th>insurance_type</th>\n",
       "      <th>age_in_5_years</th>\n",
       "    </tr>\n",
       "  </thead>\n",
       "  <tbody>\n",
       "    <tr>\n",
       "      <th>0</th>\n",
       "      <td>1</td>\n",
       "      <td>29</td>\n",
       "      <td>Male</td>\n",
       "      <td>23.9</td>\n",
       "      <td>False</td>\n",
       "      <td>NaN</td>\n",
       "      <td>Knee</td>\n",
       "      <td>12:44.3</td>\n",
       "      <td>Insurance</td>\n",
       "      <td>True</td>\n",
       "      <td>6</td>\n",
       "      <td>Public</td>\n",
       "      <td>34</td>\n",
       "    </tr>\n",
       "    <tr>\n",
       "      <th>1</th>\n",
       "      <td>2</td>\n",
       "      <td>68</td>\n",
       "      <td>Female</td>\n",
       "      <td>31.7</td>\n",
       "      <td>True</td>\n",
       "      <td>NaN</td>\n",
       "      <td>Shoulder</td>\n",
       "      <td>12:44.3</td>\n",
       "      <td>Insurance</td>\n",
       "      <td>False</td>\n",
       "      <td>3</td>\n",
       "      <td>Public</td>\n",
       "      <td>73</td>\n",
       "    </tr>\n",
       "  </tbody>\n",
       "</table>\n",
       "</div>"
      ],
      "text/plain": [
       "   patient_id  age  gender   bmi  smoker chronic_cond injury_type signup_date  \\\n",
       "0           1   29    Male  23.9   False          NaN        Knee     12:44.3   \n",
       "1           2   68  Female  31.7    True          NaN    Shoulder     12:44.3   \n",
       "\n",
       "  referral_source  consent  clinic_id insurance_type  age_in_5_years  \n",
       "0       Insurance     True          6         Public              34  \n",
       "1       Insurance    False          3         Public              73  "
      ]
     },
     "execution_count": 11,
     "metadata": {},
     "output_type": "execute_result"
    }
   ],
   "source": [
    "df.head(2)"
   ]
  },
  {
   "cell_type": "code",
   "execution_count": 27,
   "id": "3b309b06",
   "metadata": {},
   "outputs": [
    {
     "data": {
      "application/vnd.microsoft.datawrangler.viewer.v0+json": {
       "columns": [
        {
         "name": "index",
         "rawType": "object",
         "type": "string"
        },
        {
         "name": "0",
         "rawType": "int64",
         "type": "integer"
        }
       ],
       "ref": "aaaf5e4c-5c5f-4001-a05c-6ad53c84e0bd",
       "rows": [
        [
         "patient_id",
         "0"
        ],
        [
         "age",
         "0"
        ],
        [
         "gender",
         "0"
        ],
        [
         "bmi",
         "0"
        ],
        [
         "smoker",
         "0"
        ],
        [
         "chronic_cond",
         "3075"
        ],
        [
         "injury_type",
         "0"
        ],
        [
         "signup_date",
         "0"
        ],
        [
         "referral_source",
         "0"
        ],
        [
         "consent",
         "0"
        ],
        [
         "clinic_id",
         "0"
        ],
        [
         "insurance_type",
         "0"
        ],
        [
         "age_in_5_years",
         "0"
        ]
       ],
       "shape": {
        "columns": 1,
        "rows": 13
       }
      },
      "text/plain": [
       "patient_id            0\n",
       "age                   0\n",
       "gender                0\n",
       "bmi                   0\n",
       "smoker                0\n",
       "chronic_cond       3075\n",
       "injury_type           0\n",
       "signup_date           0\n",
       "referral_source       0\n",
       "consent               0\n",
       "clinic_id             0\n",
       "insurance_type        0\n",
       "age_in_5_years        0\n",
       "dtype: int64"
      ]
     },
     "execution_count": 27,
     "metadata": {},
     "output_type": "execute_result"
    }
   ],
   "source": [
    "# step 8  Data cleaning tecniques\n",
    "# 1 - find missing values\n",
    "\n",
    "\n",
    "df.isnull().sum()"
   ]
  },
  {
   "cell_type": "code",
   "execution_count": null,
   "id": "a8b3400d",
   "metadata": {},
   "outputs": [],
   "source": []
  }
 ],
 "metadata": {
  "kernelspec": {
   "display_name": "base",
   "language": "python",
   "name": "python3"
  },
  "language_info": {
   "codemirror_mode": {
    "name": "ipython",
    "version": 3
   },
   "file_extension": ".py",
   "mimetype": "text/x-python",
   "name": "python",
   "nbconvert_exporter": "python",
   "pygments_lexer": "ipython3",
   "version": "3.12.7"
  }
 },
 "nbformat": 4,
 "nbformat_minor": 5
}
