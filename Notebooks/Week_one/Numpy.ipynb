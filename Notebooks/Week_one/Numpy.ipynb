{
 "cells": [
  {
   "cell_type": "markdown",
   "id": "223dc7db",
   "metadata": {},
   "source": [
    "# Numpy \n",
    "\n",
    "1 - Basically a python library used for fast numerical computation"
   ]
  },
  {
   "cell_type": "code",
   "execution_count": 1,
   "id": "edf30a5e",
   "metadata": {},
   "outputs": [],
   "source": [
    "# step 1: importing numpy \n",
    "import numpy as np"
   ]
  },
  {
   "cell_type": "code",
   "execution_count": 3,
   "id": "49d8651c",
   "metadata": {},
   "outputs": [
    {
     "data": {
      "text/plain": [
       "array([1, 2, 3, 5])"
      ]
     },
     "execution_count": 3,
     "metadata": {},
     "output_type": "execute_result"
    }
   ],
   "source": [
    "# step 2 : creating a Arrays\n",
    "# the way data is store in an array is in dimensional form\n",
    "\n",
    "\n",
    "# 1Dimensional Array\n",
    "array_1d = np.array( [1,2,3,5]  )\n",
    "array_1d\n"
   ]
  },
  {
   "cell_type": "markdown",
   "id": "b69345fa",
   "metadata": {},
   "source": [
    "#### 1D (A single column)\n",
    "[1,2,3,4,5]\n",
    "\n",
    "- shape \n",
    "    - (n,) --1 single column without rows\n",
    "\n",
    "    (a--column,b-rows)\n",
    "    (n,)\n",
    "\n",
    "\n",
    "### 2D (A table or matrix with rows and columns)\n",
    "- shape\n",
    "    - (m, n)--- number of rows (m)\n",
    "            ---- number of columns (n)\n",
    "    - [1,2,3]\n",
    "    - [4,5,6]\n",
    "\n",
    "### 3D ( a stack of 2D array, a multiple tables)\n",
    "\n",
    "- shape \n",
    " (p, m, n) \n",
    " - p = number of matrices\n",
    " - m = columns per matrix\n",
    " - n - rows per matrix\n",
    "\n",
    "[1,2,3]   \n",
    "[4,5,6]         \n",
    "\n",
    "[7,8,9]     \n",
    "[10,11,12]"
   ]
  },
  {
   "cell_type": "code",
   "execution_count": null,
   "id": "af72a3f1",
   "metadata": {},
   "outputs": [
    {
     "name": "stdout",
     "output_type": "stream",
     "text": [
      "[[ 1  2  3  4  5]\n",
      " [ 6  7  8  9 10]]\n"
     ]
    }
   ],
   "source": [
    "# 2D - dimension Array\n",
    "array_2d = np.array( [ [1,2,3,4,5], [6,7,8,9,10]  ]  )\n",
    "print(array_2d)"
   ]
  },
  {
   "cell_type": "code",
   "execution_count": null,
   "id": "f4317c91",
   "metadata": {},
   "outputs": [],
   "source": [
    "# 3D - dimension array\n",
    "array_3d = np.array(\n",
    "    [\n",
    "        [ [1,2,3,4,5], [6,7,8,9,10] ],               #2D array ---- #3D array\n",
    "        [ [11,12,13,14,15], [16,17,18,19,20] ],     #2D array\n",
    "    ]\n",
    ")"
   ]
  },
  {
   "cell_type": "code",
   "execution_count": null,
   "id": "01e879be",
   "metadata": {},
   "outputs": [
    {
     "name": "stdout",
     "output_type": "stream",
     "text": [
      "[[0. 0. 0.]\n",
      " [0. 0. 0.]\n",
      " [0. 0. 0.]\n",
      " [0. 0. 0.]\n",
      " [0. 0. 0.]]\n"
     ]
    }
   ],
   "source": [
    "# step 3 - Zeros & Ones\n",
    "\n",
    "# Generate set of 0s\n",
    "zeros = np.zeros( [5, 3] )  #  # 5 rows and 3 columns\n",
    "print(zeros)"
   ]
  },
  {
   "cell_type": "code",
   "execution_count": 6,
   "id": "4f1b08c7",
   "metadata": {},
   "outputs": [
    {
     "name": "stdout",
     "output_type": "stream",
     "text": [
      "[[1. 1. 1.]\n",
      " [1. 1. 1.]]\n"
     ]
    }
   ],
   "source": [
    "# Generate set of 1's\n",
    "ones = np.ones( (2,3)  )   # 2 rows and 3 columns\n",
    "print(ones)"
   ]
  },
  {
   "cell_type": "code",
   "execution_count": 12,
   "id": "52a38d21",
   "metadata": {},
   "outputs": [
    {
     "name": "stdout",
     "output_type": "stream",
     "text": [
      "[[886 280 771]\n",
      " [414 480 860]\n",
      " [354 772 962]\n",
      " [589  55 357]]\n"
     ]
    }
   ],
   "source": [
    "#generate random number within a range and shape\n",
    "\n",
    "rand = np.random.randint(0,1000, (4,3)) #4 rows and 3 columns\n",
    "print(rand)"
   ]
  },
  {
   "cell_type": "code",
   "execution_count": 15,
   "id": "a9f20099",
   "metadata": {},
   "outputs": [
    {
     "name": "stdout",
     "output_type": "stream",
     "text": [
      "[ 7  9 11 14]\n",
      "[ 6 14 24 45]\n",
      "2.75\n"
     ]
    }
   ],
   "source": [
    "# Step 4 Arithmetic Operations within ARRAY\n",
    "\n",
    " #- addition \n",
    " #- multiplications\n",
    " #- mean (Average)\n",
    "\n",
    "array_one = np.array( [1,2,3,5])\n",
    "array_two = np.array( [6,7,8,9] )\n",
    "\n",
    "#addition\n",
    "additon = array_one + array_two\n",
    "multiplication = array_one * array_two\n",
    "average = np.mean(array_one)\n",
    "\n",
    "print(additon)\n",
    "print(multiplication)\n",
    "print(average)\n",
    "\n"
   ]
  },
  {
   "cell_type": "code",
   "execution_count": null,
   "id": "98a206c1",
   "metadata": {},
   "outputs": [],
   "source": []
  }
 ],
 "metadata": {
  "kernelspec": {
   "display_name": "base",
   "language": "python",
   "name": "python3"
  },
  "language_info": {
   "codemirror_mode": {
    "name": "ipython",
    "version": 3
   },
   "file_extension": ".py",
   "mimetype": "text/x-python",
   "name": "python",
   "nbconvert_exporter": "python",
   "pygments_lexer": "ipython3",
   "version": "3.12.7"
  }
 },
 "nbformat": 4,
 "nbformat_minor": 5
}
