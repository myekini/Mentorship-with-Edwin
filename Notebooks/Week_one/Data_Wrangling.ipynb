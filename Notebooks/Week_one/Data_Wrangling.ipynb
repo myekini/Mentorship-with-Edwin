{
 "cells": [
  {
   "cell_type": "markdown",
   "id": "9f9a16f5",
   "metadata": {},
   "source": [
    "# Data Wrangling  (Data exploration)\n",
    "\n",
    "- Data Wrangling is the process of cleaning, transforming  and structuring raw data into a usuable format , used for analysis and modeling  \n",
    "\n",
    "- 1 - data cleaning \n",
    "- 2 - data transforming \n",
    "- 3 - data structuring "
   ]
  },
  {
   "cell_type": "markdown",
   "id": "053f5ed3",
   "metadata": {},
   "source": [
    "# Why do we need to wrangle our data?\n",
    "- Real-world data is very messy, inconsistent and incomplete\n",
    "- more then 70% of the time in DS is actually spent on preparing the data\n",
    "- Good wrangled dataset makes your models or insights accurate "
   ]
  },
  {
   "cell_type": "markdown",
   "id": "21df994b",
   "metadata": {},
   "source": []
  },
  {
   "cell_type": "code",
   "execution_count": null,
   "id": "afa69d7a",
   "metadata": {},
   "outputs": [],
   "source": []
  },
  {
   "cell_type": "markdown",
   "id": "aa1d7ed7",
   "metadata": {},
   "source": [
    "# step 1- Data cleaning "
   ]
  },
  {
   "cell_type": "markdown",
   "id": "401a6bfd",
   "metadata": {},
   "source": [
    "#### Identify Isssues in our dataset before Wrangling \n",
    "\n",
    "- 1 - Missing values\n",
    "- 2 - duplicates datasets\n",
    "- 3 - Categorial data & numeric data"
   ]
  },
  {
   "cell_type": "markdown",
   "id": "f19040c2",
   "metadata": {},
   "source": [
    "##### step 1a - Missing Values "
   ]
  },
  {
   "cell_type": "code",
   "execution_count": 8,
   "id": "74d70083",
   "metadata": {},
   "outputs": [],
   "source": [
    "# import library - pandas\n",
    "import pandas as pd"
   ]
  },
  {
   "cell_type": "code",
   "execution_count": 9,
   "id": "04b3c756",
   "metadata": {},
   "outputs": [
    {
     "data": {
      "application/vnd.microsoft.datawrangler.viewer.v0+json": {
       "columns": [
        {
         "name": "index",
         "rawType": "int64",
         "type": "integer"
        },
        {
         "name": "patient_id",
         "rawType": "int64",
         "type": "integer"
        },
        {
         "name": "age",
         "rawType": "int64",
         "type": "integer"
        },
        {
         "name": "gender",
         "rawType": "object",
         "type": "string"
        },
        {
         "name": "bmi",
         "rawType": "float64",
         "type": "float"
        },
        {
         "name": "smoker",
         "rawType": "bool",
         "type": "boolean"
        },
        {
         "name": "chronic_cond",
         "rawType": "object",
         "type": "unknown"
        },
        {
         "name": "injury_type",
         "rawType": "object",
         "type": "string"
        },
        {
         "name": "signup_date",
         "rawType": "object",
         "type": "string"
        },
        {
         "name": "referral_source",
         "rawType": "object",
         "type": "string"
        },
        {
         "name": "consent",
         "rawType": "bool",
         "type": "boolean"
        },
        {
         "name": "clinic_id",
         "rawType": "int64",
         "type": "integer"
        },
        {
         "name": "insurance_type",
         "rawType": "object",
         "type": "string"
        }
       ],
       "ref": "4f499c5a-e073-4e5d-834f-032c9ac18ccd",
       "rows": [
        [
         "0",
         "1",
         "29",
         "Male",
         "23.9",
         "False",
         null,
         "Knee",
         "12:44.3",
         "Insurance",
         "True",
         "6",
         "Public"
        ],
        [
         "1",
         "2",
         "68",
         "Female",
         "31.7",
         "True",
         null,
         "Shoulder",
         "12:44.3",
         "Insurance",
         "False",
         "3",
         "Public"
        ],
        [
         "2",
         "3",
         "64",
         "Male",
         "27.5",
         "False",
         null,
         "Hip",
         "12:44.3",
         "GP",
         "True",
         "5",
         "Public"
        ],
        [
         "3",
         "4",
         "41",
         "Female",
         "26.1",
         "False",
         null,
         "Back",
         "12:44.3",
         "GP",
         "True",
         "2",
         "Private-Premium"
        ],
        [
         "4",
         "5",
         "22",
         "Female",
         "21.3",
         "False",
         null,
         "Shoulder",
         "12:44.3",
         "Insurance",
         "True",
         "4",
         "Private-Basic"
        ]
       ],
       "shape": {
        "columns": 12,
        "rows": 5
       }
      },
      "text/html": [
       "<div>\n",
       "<style scoped>\n",
       "    .dataframe tbody tr th:only-of-type {\n",
       "        vertical-align: middle;\n",
       "    }\n",
       "\n",
       "    .dataframe tbody tr th {\n",
       "        vertical-align: top;\n",
       "    }\n",
       "\n",
       "    .dataframe thead th {\n",
       "        text-align: right;\n",
       "    }\n",
       "</style>\n",
       "<table border=\"1\" class=\"dataframe\">\n",
       "  <thead>\n",
       "    <tr style=\"text-align: right;\">\n",
       "      <th></th>\n",
       "      <th>patient_id</th>\n",
       "      <th>age</th>\n",
       "      <th>gender</th>\n",
       "      <th>bmi</th>\n",
       "      <th>smoker</th>\n",
       "      <th>chronic_cond</th>\n",
       "      <th>injury_type</th>\n",
       "      <th>signup_date</th>\n",
       "      <th>referral_source</th>\n",
       "      <th>consent</th>\n",
       "      <th>clinic_id</th>\n",
       "      <th>insurance_type</th>\n",
       "    </tr>\n",
       "  </thead>\n",
       "  <tbody>\n",
       "    <tr>\n",
       "      <th>0</th>\n",
       "      <td>1</td>\n",
       "      <td>29</td>\n",
       "      <td>Male</td>\n",
       "      <td>23.9</td>\n",
       "      <td>False</td>\n",
       "      <td>NaN</td>\n",
       "      <td>Knee</td>\n",
       "      <td>12:44.3</td>\n",
       "      <td>Insurance</td>\n",
       "      <td>True</td>\n",
       "      <td>6</td>\n",
       "      <td>Public</td>\n",
       "    </tr>\n",
       "    <tr>\n",
       "      <th>1</th>\n",
       "      <td>2</td>\n",
       "      <td>68</td>\n",
       "      <td>Female</td>\n",
       "      <td>31.7</td>\n",
       "      <td>True</td>\n",
       "      <td>NaN</td>\n",
       "      <td>Shoulder</td>\n",
       "      <td>12:44.3</td>\n",
       "      <td>Insurance</td>\n",
       "      <td>False</td>\n",
       "      <td>3</td>\n",
       "      <td>Public</td>\n",
       "    </tr>\n",
       "    <tr>\n",
       "      <th>2</th>\n",
       "      <td>3</td>\n",
       "      <td>64</td>\n",
       "      <td>Male</td>\n",
       "      <td>27.5</td>\n",
       "      <td>False</td>\n",
       "      <td>NaN</td>\n",
       "      <td>Hip</td>\n",
       "      <td>12:44.3</td>\n",
       "      <td>GP</td>\n",
       "      <td>True</td>\n",
       "      <td>5</td>\n",
       "      <td>Public</td>\n",
       "    </tr>\n",
       "    <tr>\n",
       "      <th>3</th>\n",
       "      <td>4</td>\n",
       "      <td>41</td>\n",
       "      <td>Female</td>\n",
       "      <td>26.1</td>\n",
       "      <td>False</td>\n",
       "      <td>NaN</td>\n",
       "      <td>Back</td>\n",
       "      <td>12:44.3</td>\n",
       "      <td>GP</td>\n",
       "      <td>True</td>\n",
       "      <td>2</td>\n",
       "      <td>Private-Premium</td>\n",
       "    </tr>\n",
       "    <tr>\n",
       "      <th>4</th>\n",
       "      <td>5</td>\n",
       "      <td>22</td>\n",
       "      <td>Female</td>\n",
       "      <td>21.3</td>\n",
       "      <td>False</td>\n",
       "      <td>NaN</td>\n",
       "      <td>Shoulder</td>\n",
       "      <td>12:44.3</td>\n",
       "      <td>Insurance</td>\n",
       "      <td>True</td>\n",
       "      <td>4</td>\n",
       "      <td>Private-Basic</td>\n",
       "    </tr>\n",
       "  </tbody>\n",
       "</table>\n",
       "</div>"
      ],
      "text/plain": [
       "   patient_id  age  gender   bmi  smoker chronic_cond injury_type signup_date  \\\n",
       "0           1   29    Male  23.9   False          NaN        Knee     12:44.3   \n",
       "1           2   68  Female  31.7    True          NaN    Shoulder     12:44.3   \n",
       "2           3   64    Male  27.5   False          NaN         Hip     12:44.3   \n",
       "3           4   41  Female  26.1   False          NaN        Back     12:44.3   \n",
       "4           5   22  Female  21.3   False          NaN    Shoulder     12:44.3   \n",
       "\n",
       "  referral_source  consent  clinic_id   insurance_type  \n",
       "0       Insurance     True          6           Public  \n",
       "1       Insurance    False          3           Public  \n",
       "2              GP     True          5           Public  \n",
       "3              GP     True          2  Private-Premium  \n",
       "4       Insurance     True          4    Private-Basic  "
      ]
     },
     "execution_count": 9,
     "metadata": {},
     "output_type": "execute_result"
    }
   ],
   "source": [
    "df = pd.read_csv(\"C:/Users/Muham/Downloads/EX-ROLES/AMDARI/Edwin_Mentorship/data/patients.csv\")\n",
    "df.head()"
   ]
  },
  {
   "cell_type": "code",
   "execution_count": 10,
   "id": "04a733e0",
   "metadata": {},
   "outputs": [
    {
     "data": {
      "application/vnd.microsoft.datawrangler.viewer.v0+json": {
       "columns": [
        {
         "name": "index",
         "rawType": "object",
         "type": "string"
        },
        {
         "name": "0",
         "rawType": "int64",
         "type": "integer"
        }
       ],
       "ref": "47781f1b-2090-4d08-9774-c5edd7c784dd",
       "rows": [
        [
         "patient_id",
         "0"
        ],
        [
         "age",
         "0"
        ],
        [
         "gender",
         "0"
        ],
        [
         "bmi",
         "0"
        ],
        [
         "smoker",
         "0"
        ],
        [
         "chronic_cond",
         "3075"
        ],
        [
         "injury_type",
         "0"
        ],
        [
         "signup_date",
         "0"
        ],
        [
         "referral_source",
         "0"
        ],
        [
         "consent",
         "0"
        ],
        [
         "clinic_id",
         "0"
        ],
        [
         "insurance_type",
         "0"
        ]
       ],
       "shape": {
        "columns": 1,
        "rows": 12
       }
      },
      "text/plain": [
       "patient_id            0\n",
       "age                   0\n",
       "gender                0\n",
       "bmi                   0\n",
       "smoker                0\n",
       "chronic_cond       3075\n",
       "injury_type           0\n",
       "signup_date           0\n",
       "referral_source       0\n",
       "consent               0\n",
       "clinic_id             0\n",
       "insurance_type        0\n",
       "dtype: int64"
      ]
     },
     "execution_count": 10,
     "metadata": {},
     "output_type": "execute_result"
    }
   ],
   "source": [
    "#identify missing values\n",
    "df.isnull().sum()"
   ]
  },
  {
   "cell_type": "code",
   "execution_count": null,
   "id": "7df97804",
   "metadata": {},
   "outputs": [],
   "source": [
    "# we've identified these missing values:\n",
    "# we then need to fix them by cleaning the data\n",
    "\n",
    "# How do you fix them ? \n",
    "\n",
    "# 1. Drop the rows with misisng values\n",
    "# 2. Fill the rows with a specific value\n",
    "\n",
    "# When should you drop the rows or when should your fill the rows with a specific value?\n",
    "\n",
    "# step 1 - find the percentage of the missing values in each column \n",
    "  # If the the percentage of the missing values is greater than  > (30-50%) ~ 40% ----  consider dropping the rows\n",
    "  # if thr percentage of the missing values is less than  < (30-50%) ~ 40% ----  consider filling the rows with a specific value\n",
    "\n",
    "\n",
    "# step 2 -- filling up the missing values \n",
    " # check if the data types is numeric or categorical\n",
    "     # numeric data types are just numbers -- 4 columns in the dataset\n",
    "      # catgeorical data types are text or strings (non-numeric) -- 8 columns in the dataset\n",
    "\n",
    "# if the data type of that columns is numeric ---- fill it with mean or the median \n",
    "# if the data type of that columns is categorical ---- fill it with the mode (the most frequent value)"
   ]
  },
  {
   "cell_type": "code",
   "execution_count": 12,
   "id": "21b1e0fd",
   "metadata": {},
   "outputs": [
    {
     "name": "stdout",
     "output_type": "stream",
     "text": [
      "patient_id          0.00000\n",
      "age                 0.00000\n",
      "gender              0.00000\n",
      "bmi                 0.00000\n",
      "smoker              0.00000\n",
      "chronic_cond       61.41402\n",
      "injury_type         0.00000\n",
      "signup_date         0.00000\n",
      "referral_source     0.00000\n",
      "consent             0.00000\n",
      "clinic_id           0.00000\n",
      "insurance_type      0.00000\n",
      "dtype: float64\n"
     ]
    }
   ],
   "source": [
    "# percentage of missing values in each column\n",
    "\n",
    "missing_percentage = df.isnull().mean() * 100\n",
    "\n",
    "print(missing_percentage)"
   ]
  },
  {
   "cell_type": "code",
   "execution_count": 6,
   "id": "1ee9a329",
   "metadata": {},
   "outputs": [],
   "source": [
    "# drop the rows with missing values\n",
    "df = df.dropna()"
   ]
  },
  {
   "cell_type": "code",
   "execution_count": 13,
   "id": "c958b388",
   "metadata": {},
   "outputs": [
    {
     "name": "stdout",
     "output_type": "stream",
     "text": [
      "<class 'pandas.core.frame.DataFrame'>\n",
      "RangeIndex: 5007 entries, 0 to 5006\n",
      "Data columns (total 12 columns):\n",
      " #   Column           Non-Null Count  Dtype  \n",
      "---  ------           --------------  -----  \n",
      " 0   patient_id       5007 non-null   int64  \n",
      " 1   age              5007 non-null   int64  \n",
      " 2   gender           5007 non-null   object \n",
      " 3   bmi              5007 non-null   float64\n",
      " 4   smoker           5007 non-null   bool   \n",
      " 5   chronic_cond     1932 non-null   object \n",
      " 6   injury_type      5007 non-null   object \n",
      " 7   signup_date      5007 non-null   object \n",
      " 8   referral_source  5007 non-null   object \n",
      " 9   consent          5007 non-null   bool   \n",
      " 10  clinic_id        5007 non-null   int64  \n",
      " 11  insurance_type   5007 non-null   object \n",
      "dtypes: bool(2), float64(1), int64(3), object(6)\n",
      "memory usage: 401.1+ KB\n"
     ]
    }
   ],
   "source": [
    "# fill the rows with specific values\n",
    "df.info()"
   ]
  },
  {
   "cell_type": "code",
   "execution_count": null,
   "id": "d127b105",
   "metadata": {},
   "outputs": [],
   "source": [
    "# whats is mean - mean is simply the average of the values in that column\n",
    "# whats is median - median is the middle value of the values in that column\n",
    "# whats is mode - mode is the most frequent value in that column"
   ]
  },
  {
   "cell_type": "code",
   "execution_count": 14,
   "id": "08c1e7bf",
   "metadata": {},
   "outputs": [],
   "source": [
    "# filling the chronic conditions with the mode\n",
    "df['chronic_cond'] = df['chronic_cond'].fillna( df['chronic_cond'].mode()[0])"
   ]
  },
  {
   "cell_type": "code",
   "execution_count": 16,
   "id": "60097543",
   "metadata": {},
   "outputs": [
    {
     "data": {
      "application/vnd.microsoft.datawrangler.viewer.v0+json": {
       "columns": [
        {
         "name": "index",
         "rawType": "int64",
         "type": "integer"
        },
        {
         "name": "patient_id",
         "rawType": "int64",
         "type": "integer"
        },
        {
         "name": "age",
         "rawType": "int64",
         "type": "integer"
        },
        {
         "name": "gender",
         "rawType": "object",
         "type": "string"
        },
        {
         "name": "bmi",
         "rawType": "float64",
         "type": "float"
        },
        {
         "name": "smoker",
         "rawType": "bool",
         "type": "boolean"
        },
        {
         "name": "chronic_cond",
         "rawType": "object",
         "type": "string"
        },
        {
         "name": "injury_type",
         "rawType": "object",
         "type": "string"
        },
        {
         "name": "signup_date",
         "rawType": "object",
         "type": "string"
        },
        {
         "name": "referral_source",
         "rawType": "object",
         "type": "string"
        },
        {
         "name": "consent",
         "rawType": "bool",
         "type": "boolean"
        },
        {
         "name": "clinic_id",
         "rawType": "int64",
         "type": "integer"
        },
        {
         "name": "insurance_type",
         "rawType": "object",
         "type": "string"
        }
       ],
       "ref": "32a64aaa-8314-4a62-a99e-40dbf03b3033",
       "rows": [
        [
         "0",
         "1",
         "29",
         "Male",
         "23.9",
         "False",
         "Diabetes",
         "Knee",
         "12:44.3",
         "Insurance",
         "True",
         "6",
         "Public"
        ],
        [
         "1",
         "2",
         "68",
         "Female",
         "31.7",
         "True",
         "Diabetes",
         "Shoulder",
         "12:44.3",
         "Insurance",
         "False",
         "3",
         "Public"
        ],
        [
         "2",
         "3",
         "64",
         "Male",
         "27.5",
         "False",
         "Diabetes",
         "Hip",
         "12:44.3",
         "GP",
         "True",
         "5",
         "Public"
        ],
        [
         "3",
         "4",
         "41",
         "Female",
         "26.1",
         "False",
         "Diabetes",
         "Back",
         "12:44.3",
         "GP",
         "True",
         "2",
         "Private-Premium"
        ],
        [
         "4",
         "5",
         "22",
         "Female",
         "21.3",
         "False",
         "Diabetes",
         "Shoulder",
         "12:44.3",
         "Insurance",
         "True",
         "4",
         "Private-Basic"
        ]
       ],
       "shape": {
        "columns": 12,
        "rows": 5
       }
      },
      "text/html": [
       "<div>\n",
       "<style scoped>\n",
       "    .dataframe tbody tr th:only-of-type {\n",
       "        vertical-align: middle;\n",
       "    }\n",
       "\n",
       "    .dataframe tbody tr th {\n",
       "        vertical-align: top;\n",
       "    }\n",
       "\n",
       "    .dataframe thead th {\n",
       "        text-align: right;\n",
       "    }\n",
       "</style>\n",
       "<table border=\"1\" class=\"dataframe\">\n",
       "  <thead>\n",
       "    <tr style=\"text-align: right;\">\n",
       "      <th></th>\n",
       "      <th>patient_id</th>\n",
       "      <th>age</th>\n",
       "      <th>gender</th>\n",
       "      <th>bmi</th>\n",
       "      <th>smoker</th>\n",
       "      <th>chronic_cond</th>\n",
       "      <th>injury_type</th>\n",
       "      <th>signup_date</th>\n",
       "      <th>referral_source</th>\n",
       "      <th>consent</th>\n",
       "      <th>clinic_id</th>\n",
       "      <th>insurance_type</th>\n",
       "    </tr>\n",
       "  </thead>\n",
       "  <tbody>\n",
       "    <tr>\n",
       "      <th>0</th>\n",
       "      <td>1</td>\n",
       "      <td>29</td>\n",
       "      <td>Male</td>\n",
       "      <td>23.9</td>\n",
       "      <td>False</td>\n",
       "      <td>Diabetes</td>\n",
       "      <td>Knee</td>\n",
       "      <td>12:44.3</td>\n",
       "      <td>Insurance</td>\n",
       "      <td>True</td>\n",
       "      <td>6</td>\n",
       "      <td>Public</td>\n",
       "    </tr>\n",
       "    <tr>\n",
       "      <th>1</th>\n",
       "      <td>2</td>\n",
       "      <td>68</td>\n",
       "      <td>Female</td>\n",
       "      <td>31.7</td>\n",
       "      <td>True</td>\n",
       "      <td>Diabetes</td>\n",
       "      <td>Shoulder</td>\n",
       "      <td>12:44.3</td>\n",
       "      <td>Insurance</td>\n",
       "      <td>False</td>\n",
       "      <td>3</td>\n",
       "      <td>Public</td>\n",
       "    </tr>\n",
       "    <tr>\n",
       "      <th>2</th>\n",
       "      <td>3</td>\n",
       "      <td>64</td>\n",
       "      <td>Male</td>\n",
       "      <td>27.5</td>\n",
       "      <td>False</td>\n",
       "      <td>Diabetes</td>\n",
       "      <td>Hip</td>\n",
       "      <td>12:44.3</td>\n",
       "      <td>GP</td>\n",
       "      <td>True</td>\n",
       "      <td>5</td>\n",
       "      <td>Public</td>\n",
       "    </tr>\n",
       "    <tr>\n",
       "      <th>3</th>\n",
       "      <td>4</td>\n",
       "      <td>41</td>\n",
       "      <td>Female</td>\n",
       "      <td>26.1</td>\n",
       "      <td>False</td>\n",
       "      <td>Diabetes</td>\n",
       "      <td>Back</td>\n",
       "      <td>12:44.3</td>\n",
       "      <td>GP</td>\n",
       "      <td>True</td>\n",
       "      <td>2</td>\n",
       "      <td>Private-Premium</td>\n",
       "    </tr>\n",
       "    <tr>\n",
       "      <th>4</th>\n",
       "      <td>5</td>\n",
       "      <td>22</td>\n",
       "      <td>Female</td>\n",
       "      <td>21.3</td>\n",
       "      <td>False</td>\n",
       "      <td>Diabetes</td>\n",
       "      <td>Shoulder</td>\n",
       "      <td>12:44.3</td>\n",
       "      <td>Insurance</td>\n",
       "      <td>True</td>\n",
       "      <td>4</td>\n",
       "      <td>Private-Basic</td>\n",
       "    </tr>\n",
       "  </tbody>\n",
       "</table>\n",
       "</div>"
      ],
      "text/plain": [
       "   patient_id  age  gender   bmi  smoker chronic_cond injury_type signup_date  \\\n",
       "0           1   29    Male  23.9   False     Diabetes        Knee     12:44.3   \n",
       "1           2   68  Female  31.7    True     Diabetes    Shoulder     12:44.3   \n",
       "2           3   64    Male  27.5   False     Diabetes         Hip     12:44.3   \n",
       "3           4   41  Female  26.1   False     Diabetes        Back     12:44.3   \n",
       "4           5   22  Female  21.3   False     Diabetes    Shoulder     12:44.3   \n",
       "\n",
       "  referral_source  consent  clinic_id   insurance_type  \n",
       "0       Insurance     True          6           Public  \n",
       "1       Insurance    False          3           Public  \n",
       "2              GP     True          5           Public  \n",
       "3              GP     True          2  Private-Premium  \n",
       "4       Insurance     True          4    Private-Basic  "
      ]
     },
     "execution_count": 16,
     "metadata": {},
     "output_type": "execute_result"
    }
   ],
   "source": [
    "df.head()"
   ]
  },
  {
   "cell_type": "code",
   "execution_count": null,
   "id": "f0a01a26",
   "metadata": {},
   "outputs": [
    {
     "data": {
      "text/plain": [
       "np.int64(7)"
      ]
     },
     "execution_count": 20,
     "metadata": {},
     "output_type": "execute_result"
    }
   ],
   "source": [
    "# checking for the duplicates values \n",
    "df_dup = df.duplicated().sum()"
   ]
  },
  {
   "cell_type": "code",
   "execution_count": 21,
   "id": "2ed92544",
   "metadata": {},
   "outputs": [],
   "source": [
    "# drop the duplicates values\n",
    "df = df.drop_duplicates()"
   ]
  },
  {
   "cell_type": "code",
   "execution_count": 23,
   "id": "eeca31b5",
   "metadata": {},
   "outputs": [
    {
     "data": {
      "text/plain": [
       "np.int64(0)"
      ]
     },
     "execution_count": 23,
     "metadata": {},
     "output_type": "execute_result"
    }
   ],
   "source": [
    "df_dup = df.duplicated().sum()\n",
    "df_dup"
   ]
  },
  {
   "cell_type": "markdown",
   "id": "b4da6154",
   "metadata": {},
   "source": [
    "# Interview Questions I\n",
    "\n",
    "- 1 - how do you identify missing values in pandas\n",
    "- 2 - whats are the strategies to handle missing values\n",
    "- 3 - when would you choose to drop vs impute missing data\n",
    "\n",
    "\n",
    "# Answers \n",
    "\n",
    "- 1 - i first use isnull().sum() to have a summary of the missing values\n",
    "- 2 - if we have <=40% of the misisng values --- we can safely drop the missing values \n",
    "  - if the we have >=40% of the missing values --- we imput the missng point with mean, median or mode\n",
    "  - if the columns has numeric values --- we use the mean or the median \n",
    "  - if the columns has categorical values (non-numeric values) - we impute with the mode (frequency of the data points)"
   ]
  },
  {
   "cell_type": "code",
   "execution_count": null,
   "id": "0938894f",
   "metadata": {},
   "outputs": [],
   "source": []
  },
  {
   "cell_type": "markdown",
   "id": "4b506900",
   "metadata": {},
   "source": [
    "#### step 1b - duplicates Values "
   ]
  },
  {
   "cell_type": "code",
   "execution_count": null,
   "id": "8d961666",
   "metadata": {},
   "outputs": [],
   "source": [
    "# Identify these duplicates\n",
    "df.duplicated()"
   ]
  },
  {
   "cell_type": "code",
   "execution_count": null,
   "id": "fcfda824",
   "metadata": {},
   "outputs": [],
   "source": [
    "# Remove these duplciates \n",
    "df_clean_dup = df.drop_duplicates()"
   ]
  },
  {
   "cell_type": "code",
   "execution_count": null,
   "id": "ff0f04c3",
   "metadata": {},
   "outputs": [],
   "source": [
    "df_clean_dup.duplicated().sum()"
   ]
  },
  {
   "cell_type": "code",
   "execution_count": null,
   "id": "d1759d64",
   "metadata": {},
   "outputs": [],
   "source": []
  },
  {
   "cell_type": "markdown",
   "id": "b39f518b",
   "metadata": {},
   "source": [
    "# Interview Questions II\n",
    "\n",
    "- 1- how do you remove duplicates from your rows in pandas \n",
    "- 2 - Whats the difference between duplicated() and drop_duplicated()\n",
    "\n",
    "# Answers \n",
    "\n",
    "- 1 - to remove deuplicates you first need to identify the duplicates by using \n",
    "    - duplicated() --- method\n",
    "    - drop_duplicated() --- method\n",
    "\n",
    "- 2 - duplicated() actually return a boolean output indicating wheather a rows is suplicate or not (true or false)\n",
    "    - drop_duplicated() actually removes all duplicates from the dataframe\n"
   ]
  },
  {
   "cell_type": "markdown",
   "id": "bd3b3937",
   "metadata": {},
   "source": []
  },
  {
   "cell_type": "markdown",
   "id": "972063d6",
   "metadata": {},
   "source": [
    "#### step 1c : Filtering & Selecting Data\n",
    "\n",
    "- why you need to filter and select data sometimes \n",
    " - often need to focus on  specifc part or subset of your data"
   ]
  },
  {
   "cell_type": "code",
   "execution_count": null,
   "id": "21f11ea5",
   "metadata": {},
   "outputs": [],
   "source": [
    "df.head(3)"
   ]
  },
  {
   "cell_type": "code",
   "execution_count": null,
   "id": "75396ff6",
   "metadata": {},
   "outputs": [],
   "source": [
    "#filter rows with a single conditions\n",
    "\n",
    "df[ df['age'] > 60 ]"
   ]
  },
  {
   "cell_type": "code",
   "execution_count": null,
   "id": "dacfca06",
   "metadata": {},
   "outputs": [],
   "source": [
    "# #filter rows with multiple conditions\n",
    "\n",
    "df[(df['age'] > 40)   &     (df['bmi'] <=20) ]"
   ]
  },
  {
   "cell_type": "code",
   "execution_count": null,
   "id": "f8ef3c33",
   "metadata": {},
   "outputs": [],
   "source": [
    "# Selecting a single columns \n",
    "df['gender']"
   ]
  },
  {
   "cell_type": "code",
   "execution_count": null,
   "id": "0a0cdcbc",
   "metadata": {},
   "outputs": [],
   "source": [
    "# Selecting multiple columns\n",
    "\n",
    "df[ ['gender', 'age' ]] "
   ]
  },
  {
   "cell_type": "markdown",
   "id": "e3532549",
   "metadata": {},
   "source": [
    "# indexing of the data \n",
    "\n",
    "- iloc - position based selection \n",
    "- loc - label - based selection"
   ]
  },
  {
   "cell_type": "code",
   "execution_count": null,
   "id": "fc9a7493",
   "metadata": {},
   "outputs": [],
   "source": [
    "df.loc[10, 'referral_source']"
   ]
  },
  {
   "cell_type": "code",
   "execution_count": null,
   "id": "4455c354",
   "metadata": {},
   "outputs": [],
   "source": [
    "df.head(11)"
   ]
  },
  {
   "cell_type": "code",
   "execution_count": null,
   "id": "898cf6da",
   "metadata": {},
   "outputs": [],
   "source": [
    "df.iloc[10,7]"
   ]
  },
  {
   "cell_type": "markdown",
   "id": "67b34661",
   "metadata": {},
   "source": [
    "#### INTERVIEWS QUESTIONS\n",
    "\n",
    "1 - what is the different between loc and iloc\n",
    "2 - how do you filter rows based on muiltple condition\n",
    "\n",
    "\n",
    "### ANSWERS \n",
    "- loc uses label (name), iloc uses integer to check for position"
   ]
  },
  {
   "cell_type": "markdown",
   "id": "c995c957",
   "metadata": {},
   "source": []
  },
  {
   "cell_type": "markdown",
   "id": "e7d4f7b8",
   "metadata": {},
   "source": [
    "## Step 2 - Transforming Data"
   ]
  },
  {
   "cell_type": "code",
   "execution_count": null,
   "id": "38ab01f7",
   "metadata": {},
   "outputs": [],
   "source": [
    "# create new column(straight forward)\n",
    "\n",
    "df['bmi_percentage'] = df['bmi'] * 100"
   ]
  },
  {
   "cell_type": "code",
   "execution_count": null,
   "id": "091b327f",
   "metadata": {},
   "outputs": [],
   "source": [
    "df.head()"
   ]
  },
  {
   "cell_type": "code",
   "execution_count": null,
   "id": "ccad9dd9",
   "metadata": {},
   "outputs": [],
   "source": [
    "# create new column ( you want to apply conditions to the new column)\n",
    "\n",
    "df['age_range'] = df['age'].apply(lambda x: \"young\" if x <=30 else \"old\")"
   ]
  },
  {
   "cell_type": "code",
   "execution_count": null,
   "id": "56c6bce6",
   "metadata": {},
   "outputs": [],
   "source": [
    "df.head(3)"
   ]
  },
  {
   "cell_type": "code",
   "execution_count": null,
   "id": "0f0a78f6",
   "metadata": {},
   "outputs": [],
   "source": [
    "#Renaming columns \n",
    "df.rename(columns={\"age\" : \"Maturity_age\"}, inplace=True)"
   ]
  },
  {
   "cell_type": "code",
   "execution_count": null,
   "id": "8241f66e",
   "metadata": {},
   "outputs": [],
   "source": [
    "df.head()"
   ]
  },
  {
   "cell_type": "code",
   "execution_count": null,
   "id": "8af31d44",
   "metadata": {},
   "outputs": [],
   "source": []
  },
  {
   "cell_type": "code",
   "execution_count": null,
   "metadata": {},
   "outputs": [],
   "source": []
  },
  {
   "cell_type": "markdown",
   "id": "9214b91f",
   "metadata": {},
   "source": [
    "### INTERVIEW QUESTION\n",
    "\n",
    "1- How do you create a new column based on existing data\n",
    "2 - what does apply() do in pandas\n",
    "\n",
    "#### Answers \n",
    "1 - can create them using two method\n",
    " - creating a columne directly by defining a new column name (e.g df['salaryAge'])\n",
    " - OR creating a column by applying a condition using the .apply()/lambda function method in pandas\n",
    "\n",
    "2 - what does apply() do in pandas \n",
    "  lets you apply a lambda function with condition to each elements in the dataset\n"
   ]
  },
  {
   "cell_type": "markdown",
   "id": "5405c238",
   "metadata": {},
   "source": []
  }
 ],
 "metadata": {
  "kernelspec": {
   "display_name": "base",
   "language": "python",
   "name": "python3"
  },
  "language_info": {
   "codemirror_mode": {
    "name": "ipython",
    "version": 3
   },
   "file_extension": ".py",
   "mimetype": "text/x-python",
   "name": "python",
   "nbconvert_exporter": "python",
   "pygments_lexer": "ipython3",
   "version": "3.12.7"
  }
 },
 "nbformat": 4,
 "nbformat_minor": 5
}
